{
 "cells": [
  {
   "cell_type": "code",
   "execution_count": 2,
   "metadata": {
    "collapsed": true,
    "jupyter": {
     "outputs_hidden": true
    }
   },
   "outputs": [],
   "source": [
    "#!pip install web3"
   ]
  },
  {
   "cell_type": "code",
   "execution_count": 19,
   "metadata": {},
   "outputs": [],
   "source": [
    "import pandas as pd\n",
    "import requests\n",
    "import datetime\n",
    "import time\n",
    "import json\n",
    "from web3 import Web3 as web3\n",
    "import numpy as np\n",
    "from web3 import Web3"
   ]
  },
  {
   "cell_type": "code",
   "execution_count": null,
   "metadata": {},
   "outputs": [],
   "source": [
    "# Initialize a Web3 instance\n",
    "infura_project_id = 'YOUR-PROJECT-ID'\n",
    "infura_url = f'https://mainnet.infura.io/v3/{infura_project_id}'\n",
    "\n",
    "web3 = Web3(Web3.HTTPProvider(infura_url))"
   ]
  },
  {
   "cell_type": "code",
   "execution_count": 102,
   "metadata": {},
   "outputs": [],
   "source": [
    "#introduce a caching layer to reduce API calls\n",
    "\n",
    "from web3.middleware import geth_poa_middleware, simple_cache_middleware\n",
    "# add the geth_poa_middleware to handle POA chains\n",
    "web3.middleware_onion.inject(geth_poa_middleware, layer=0)\n",
    "\n",
    "# add the simple_cache_middleware to cache responses\n",
    "web3.middleware_onion.add(simple_cache_middleware)"
   ]
  },
  {
   "cell_type": "code",
   "execution_count": 9,
   "metadata": {},
   "outputs": [],
   "source": [
    "#load top token addresses and block numbers that will be needed later on\n",
    "top_tokens_addresses = pd.read_csv('../../utils/price-data/top_tokens_addresses.csv') \n",
    "block_numbers_df = pd.read_csv('../../utils/block-numbers/block_numbers_2020-01-2023-04.csv')"
   ]
  },
  {
   "cell_type": "markdown",
   "metadata": {},
   "source": [
    "### retrieve creation TX hashes for the escrow contracts\n",
    "\n",
    "so we can obtain the tx hash and timestamp from the day they were deployed"
   ]
  },
  {
   "cell_type": "code",
   "execution_count": 7,
   "metadata": {},
   "outputs": [
    {
     "name": "stdout",
     "output_type": "stream",
     "text": [
      "Transaction hash for 0xcEe284F754E854890e311e3280b767F80797180d: 0x334a8c4172e3adfa0911c82de7b13ad9f18c75059ad8091f4d2659293510298e\n",
      "Transaction hash for 0xa3A7B6F88361F48403514059F1F16C8E78d60EeC: 0xaeeb4daf285b38b858d585e029405ee777a4b7882bf6a66cbfb3a53f6dbf7253\n",
      "Transaction hash for 0x8315177aB297bA92A06054cE80a67Ed4DBd7ed3a: 0xd52bb370667ae76f14c7d65b4e262cf72c86ec51bfc1186175f806279a4bd7d6\n",
      "Transaction hash for 0xA10c7CE4b876998858b1a9E12b10092229539400: 0x248787fbf0415ff1da68ba618da0cbdd5dcc7c6029be38709f95ea837211edc5\n"
     ]
    }
   ],
   "source": [
    "import requests\n",
    "\n",
    "# Replace with your etherscan API key\n",
    "api_key = \"YOUR-API-KEY\"\n",
    "\n",
    "# List of contract addresses to query\n",
    "contract_addresses = [\n",
    "    \"0xcEe284F754E854890e311e3280b767F80797180d\", #deployed Jun-16-2021\n",
    "    \"0xa3A7B6F88361F48403514059F1F16C8E78d60EeC\", #deployed Jun-15-2021\n",
    "    \"0x8315177aB297bA92A06054cE80a67Ed4DBd7ed3a\", #deployed Aug-25-2022 \n",
    "    \"0xA10c7CE4b876998858b1a9E12b10092229539400\"#deployed Sep-20-2021\n",
    "]\n",
    "\n",
    "# API endpoint\n",
    "url = \"https://api.etherscan.io/api\"\n",
    "\n",
    "# Query parameters\n",
    "params = {\n",
    "    \"module\": \"contract\",\n",
    "    \"action\": \"getcontractcreation\",\n",
    "    \"contractaddresses\": \",\".join(contract_addresses),\n",
    "    \"apikey\": api_key\n",
    "}\n",
    "\n",
    "# Send GET request\n",
    "response = requests.get(url, params=params)\n",
    "\n",
    "# Extract transaction hash for each contract address\n",
    "result_list = response.json()[\"result\"]\n",
    "\n",
    "creation_txHash_0xcEe284F754E854890e311e3280b767F80797180d = result_list[0][\"txHash\"]\n",
    "creation_txHash_0xa3A7B6F88361F48403514059F1F16C8E78d60EeC = result_list[1][\"txHash\"]\n",
    "creation_txHash_0x8315177aB297bA92A06054cE80a67Ed4DBd7ed3a = result_list[2][\"txHash\"]\n",
    "creation_txHash_0xA10c7CE4b876998858b1a9E12b10092229539400 = result_list[3][\"txHash\"]\n",
    "\n",
    "# Print transaction hash for each contract address\n",
    "print(\"Transaction hash for Contract 1:\", creation_txHash_0xcEe284F754E854890e311e3280b767F80797180d)\n",
    "print(\"Transaction hash for Contract 2:\", creation_txHash_0xa3A7B6F88361F48403514059F1F16C8E78d60EeC)\n",
    "print(\"Transaction hash for Contract 3:\", creation_txHash_0x8315177aB297bA92A06054cE80a67Ed4DBd7ed3a)\n",
    "print(\"Transaction hash for Contract 4:\", creation_txHash_0xA10c7CE4b876998858b1a9E12b10092229539400)\n"
   ]
  },
  {
   "cell_type": "code",
   "execution_count": 3,
   "metadata": {},
   "outputs": [],
   "source": []
  },
  {
   "cell_type": "markdown",
   "metadata": {},
   "source": [
    "<h1 style=\"color: blue; font-size: 36px; font-family: Arial;\">L1ERC20Gateway Escrow</h1>\n"
   ]
  },
  {
   "cell_type": "markdown",
   "metadata": {},
   "source": [
    "### retrieve block number and timestamp for the deployment of the contract\n",
    "\n",
    "this way i can start querying the token balance from that day on"
   ]
  },
  {
   "cell_type": "code",
   "execution_count": 50,
   "metadata": {},
   "outputs": [
    {
     "name": "stdout",
     "output_type": "stream",
     "text": [
      "The deployment transaction 0xaeeb4daf285b38b858d585e029405ee777a4b7882bf6a66cbfb3a53f6dbf7253 for the smart contract 0xa3A7B6F88361F48403514059F1F16C8E78d60EeC was mined in block number 12640867.\n",
      "The block with number 12640867 was mined at timestamp 2021-06-15 19:08:20.\n"
     ]
    }
   ],
   "source": [
    "api_key = 'YOUR-API-KEY' # replace with your Etherscan API key\n",
    "tx_hash = creation_txHash_0xa3A7B6F88361F48403514059F1F16C8E78d60EeC # replace with the transaction hash you want to retrieve\n",
    "\n",
    "# make the API request\n",
    "url = f'https://api.etherscan.io/api?module=proxy&action=eth_getTransactionByHash&txhash={tx_hash}&apikey={api_key}'\n",
    "response = requests.get(url)\n",
    "\n",
    "# parse the response to retrieve the block number\n",
    "result = response.json()['result']\n",
    "block_number = int(result['blockNumber'], 16)\n",
    "\n",
    "print(f'The deployment transaction {tx_hash} for the smart contract  was mined in block number {block_number}.')\n",
    "\n",
    "# make the API request\n",
    "url = f'https://api.etherscan.io/api?module=block&action=getblockreward&blockno={block_number}&apikey={api_key}'\n",
    "response = requests.get(url)\n",
    "\n",
    "# parse the response to retrieve the timestamp\n",
    "response_json = response.json()\n",
    "if response_json['status'] == '1':\n",
    "    result = response_json['result']\n",
    "    timestamp = int(result['timeStamp'])\n",
    "    datetime_obj = datetime.datetime.fromtimestamp(timestamp)\n",
    "    human_readable_time = datetime_obj.strftime('%Y-%m-%d %H:%M:%S')\n",
    "    print(f'The block with number {block_number} was mined at timestamp {human_readable_time}.')\n",
    "else:\n",
    "    print(f'There was an error: {response_json[\"result\"]}')\n",
    "\n",
    "\n"
   ]
  },
  {
   "cell_type": "markdown",
   "metadata": {},
   "source": [
    "### retreive all tokens held by the L1ERC20Gateway escrow holding ERC20 Tokens\n"
   ]
  },
  {
   "cell_type": "code",
   "execution_count": 1,
   "metadata": {},
   "outputs": [],
   "source": [
    "#contract-address: 0xa3A7B6F88361F48403514059F1F16C8E78d60EeC\n",
    "#created at Jun-15-2021 #at block 12640867\n"
   ]
  },
  {
   "cell_type": "code",
   "execution_count": 4,
   "metadata": {},
   "outputs": [
    {
     "name": "stdout",
     "output_type": "stream",
     "text": [
      "                                  Token Address\n",
      "0    0x0ce51000d5244f1eaac0b313a792d5a5f96931bf\n",
      "1    0x6810e776880c02933d47db1b9fc05908e5386b96\n",
      "2    0x9f8f72aa9304c8b593d555f12ef6589cc3a579a2\n",
      "3    0x514910771af9ca656af840dff83e8264ecf986ca\n",
      "4    0x1f9840a85d5af5bf1d1762f925bdaddc4201f984\n",
      "..                                          ...\n",
      "602  0x745407c86df8db893011912d3ab28e68b62e49b0\n",
      "603  0x85f6eb2bd5a062f5f8560be93fb7147e16c81472\n",
      "604  0x18084fba666a33d37592fa2633fd49a74dd93a88\n",
      "605  0x4da27a545c0c5b758a6ba100e3a049001de870f5\n",
      "606  0xcfeaead4947f0705a14ec42ac3d44129e1ef3ed5\n",
      "\n",
      "[607 rows x 1 columns]\n"
     ]
    }
   ],
   "source": [
    "import pandas as pd\n",
    "import requests\n",
    "\n",
    "# Replace API_KEY with your own Ethplorer API key\n",
    "API_KEY = \"YOUR-API-KEY\"\n",
    "\n",
    "# Replace CONTRACT_ADDRESS with the address of the contract you want to query\n",
    "CONTRACT_ADDRESS = \"0xa3A7B6F88361F48403514059F1F16C8E78d60EeC\"\n",
    "\n",
    "# Construct the API endpoint URL\n",
    "url = f\"https://api.ethplorer.io/getAddressInfo/{CONTRACT_ADDRESS}?apiKey={API_KEY}\"\n",
    "\n",
    "# Send the API request and parse the response as JSON\n",
    "response = requests.get(url)\n",
    "data = response.json()\n",
    "\n",
    "# Get the list of token balances held by the contract\n",
    "token_balances = data.get(\"tokens\", [])\n",
    "\n",
    "# Create an empty DataFrame\n",
    "token_addresses_held_L1ERC20Gateway = pd.DataFrame(columns=[\"Token Address\"])\n",
    "\n",
    "# Append each token address to a new row in the DataFrame\n",
    "for token_balance in token_balances:\n",
    "    token_address = token_balance.get(\"tokenInfo\", {}).get(\"address\")\n",
    "    token_addresses_held_L1ERC20Gateway = token_addresses_held_L1ERC20Gateway.append({\"Token Address\": token_address}, ignore_index=True)\n",
    "\n",
    "# Print the DataFrame\n",
    "print(token_addresses_held_L1ERC20Gateway)\n"
   ]
  },
  {
   "cell_type": "markdown",
   "metadata": {},
   "source": [
    "all token_addresses held by the escrow that also appear in the top 300 of CoinGecko"
   ]
  },
  {
   "cell_type": "code",
   "execution_count": 10,
   "metadata": {},
   "outputs": [],
   "source": [
    "# all token_addresses held by the escrow that also appear in the top 300 of CoinGecko\n",
    "L1ERC20Gateway_top_token_addresses = pd.merge(top_tokens_addresses, token_addresses_held_L1ERC20Gateway, left_on=\"token_address\", right_on=\"Token Address\")\n",
    "L1ERC20Gateway_top_token_addresses['token_address'] = L1ERC20Gateway_top_token_addresses['token_address'].apply(lambda x: web3.to_checksum_address(x))\n"
   ]
  },
  {
   "cell_type": "code",
   "execution_count": 11,
   "metadata": {},
   "outputs": [
    {
     "data": {
      "text/html": [
       "<div>\n",
       "<style scoped>\n",
       "    .dataframe tbody tr th:only-of-type {\n",
       "        vertical-align: middle;\n",
       "    }\n",
       "\n",
       "    .dataframe tbody tr th {\n",
       "        vertical-align: top;\n",
       "    }\n",
       "\n",
       "    .dataframe thead th {\n",
       "        text-align: right;\n",
       "    }\n",
       "</style>\n",
       "<table border=\"1\" class=\"dataframe\">\n",
       "  <thead>\n",
       "    <tr style=\"text-align: right;\">\n",
       "      <th></th>\n",
       "      <th>coingecko_id</th>\n",
       "      <th>token_address</th>\n",
       "      <th>decimals</th>\n",
       "      <th>Token Address</th>\n",
       "    </tr>\n",
       "  </thead>\n",
       "  <tbody>\n",
       "    <tr>\n",
       "      <th>0</th>\n",
       "      <td>binancecoin</td>\n",
       "      <td>0xB8c77482e45F1F44dE1745F52C74426C631bDD52</td>\n",
       "      <td>18</td>\n",
       "      <td>0xb8c77482e45f1f44de1745f52c74426c631bdd52</td>\n",
       "    </tr>\n",
       "    <tr>\n",
       "      <th>1</th>\n",
       "      <td>matic-network</td>\n",
       "      <td>0x7D1AfA7B718fb893dB30A3aBc0Cfc608AaCfeBB0</td>\n",
       "      <td>18</td>\n",
       "      <td>0x7d1afa7b718fb893db30a3abc0cfc608aacfebb0</td>\n",
       "    </tr>\n",
       "    <tr>\n",
       "      <th>2</th>\n",
       "      <td>shiba-inu</td>\n",
       "      <td>0x95aD61b0a150d79219dCF64E1E6Cc01f0B64C4cE</td>\n",
       "      <td>18</td>\n",
       "      <td>0x95ad61b0a150d79219dcf64e1e6cc01f0b64c4ce</td>\n",
       "    </tr>\n",
       "    <tr>\n",
       "      <th>3</th>\n",
       "      <td>binance-usd</td>\n",
       "      <td>0x4Fabb145d64652a948d72533023f6E7A623C7C53</td>\n",
       "      <td>18</td>\n",
       "      <td>0x4fabb145d64652a948d72533023f6e7a623c7c53</td>\n",
       "    </tr>\n",
       "    <tr>\n",
       "      <th>4</th>\n",
       "      <td>uniswap</td>\n",
       "      <td>0x1f9840a85d5aF5bf1D1762F925BDADdC4201F984</td>\n",
       "      <td>18</td>\n",
       "      <td>0x1f9840a85d5af5bf1d1762f925bdaddc4201f984</td>\n",
       "    </tr>\n",
       "    <tr>\n",
       "      <th>...</th>\n",
       "      <td>...</td>\n",
       "      <td>...</td>\n",
       "      <td>...</td>\n",
       "      <td>...</td>\n",
       "    </tr>\n",
       "    <tr>\n",
       "      <th>88</th>\n",
       "      <td>alethea-artificial-liquid-intelligence-token</td>\n",
       "      <td>0x6B0b3a982b4634aC68dD83a4DBF02311cE324181</td>\n",
       "      <td>18</td>\n",
       "      <td>0x6b0b3a982b4634ac68dd83a4dbf02311ce324181</td>\n",
       "    </tr>\n",
       "    <tr>\n",
       "      <th>89</th>\n",
       "      <td>coti</td>\n",
       "      <td>0xDDB3422497E61e13543BeA06989C0789117555c5</td>\n",
       "      <td>18</td>\n",
       "      <td>0xddb3422497e61e13543bea06989c0789117555c5</td>\n",
       "    </tr>\n",
       "    <tr>\n",
       "      <th>90</th>\n",
       "      <td>ankreth</td>\n",
       "      <td>0xE95A203B1a91a908F9B9CE46459d101078c2c3cb</td>\n",
       "      <td>18</td>\n",
       "      <td>0xe95a203b1a91a908f9b9ce46459d101078c2c3cb</td>\n",
       "    </tr>\n",
       "    <tr>\n",
       "      <th>91</th>\n",
       "      <td>republic-protocol</td>\n",
       "      <td>0x408e41876cCCDC0F92210600ef50372656052a38</td>\n",
       "      <td>18</td>\n",
       "      <td>0x408e41876cccdc0f92210600ef50372656052a38</td>\n",
       "    </tr>\n",
       "    <tr>\n",
       "      <th>92</th>\n",
       "      <td>perpetual-protocol</td>\n",
       "      <td>0xbC396689893D065F41bc2C6EcbeE5e0085233447</td>\n",
       "      <td>18</td>\n",
       "      <td>0xbc396689893d065f41bc2c6ecbee5e0085233447</td>\n",
       "    </tr>\n",
       "  </tbody>\n",
       "</table>\n",
       "<p>93 rows × 4 columns</p>\n",
       "</div>"
      ],
      "text/plain": [
       "                                    coingecko_id  \\\n",
       "0                                    binancecoin   \n",
       "1                                  matic-network   \n",
       "2                                      shiba-inu   \n",
       "3                                    binance-usd   \n",
       "4                                        uniswap   \n",
       "..                                           ...   \n",
       "88  alethea-artificial-liquid-intelligence-token   \n",
       "89                                          coti   \n",
       "90                                       ankreth   \n",
       "91                             republic-protocol   \n",
       "92                            perpetual-protocol   \n",
       "\n",
       "                                 token_address  decimals  \\\n",
       "0   0xB8c77482e45F1F44dE1745F52C74426C631bDD52        18   \n",
       "1   0x7D1AfA7B718fb893dB30A3aBc0Cfc608AaCfeBB0        18   \n",
       "2   0x95aD61b0a150d79219dCF64E1E6Cc01f0B64C4cE        18   \n",
       "3   0x4Fabb145d64652a948d72533023f6E7A623C7C53        18   \n",
       "4   0x1f9840a85d5aF5bf1D1762F925BDADdC4201F984        18   \n",
       "..                                         ...       ...   \n",
       "88  0x6B0b3a982b4634aC68dD83a4DBF02311cE324181        18   \n",
       "89  0xDDB3422497E61e13543BeA06989C0789117555c5        18   \n",
       "90  0xE95A203B1a91a908F9B9CE46459d101078c2c3cb        18   \n",
       "91  0x408e41876cCCDC0F92210600ef50372656052a38        18   \n",
       "92  0xbC396689893D065F41bc2C6EcbeE5e0085233447        18   \n",
       "\n",
       "                                 Token Address  \n",
       "0   0xb8c77482e45f1f44de1745f52c74426c631bdd52  \n",
       "1   0x7d1afa7b718fb893db30a3abc0cfc608aacfebb0  \n",
       "2   0x95ad61b0a150d79219dcf64e1e6cc01f0b64c4ce  \n",
       "3   0x4fabb145d64652a948d72533023f6e7a623c7c53  \n",
       "4   0x1f9840a85d5af5bf1d1762f925bdaddc4201f984  \n",
       "..                                         ...  \n",
       "88  0x6b0b3a982b4634ac68dd83a4dbf02311ce324181  \n",
       "89  0xddb3422497e61e13543bea06989c0789117555c5  \n",
       "90  0xe95a203b1a91a908f9b9ce46459d101078c2c3cb  \n",
       "91  0x408e41876cccdc0f92210600ef50372656052a38  \n",
       "92  0xbc396689893d065f41bc2c6ecbee5e0085233447  \n",
       "\n",
       "[93 rows x 4 columns]"
      ]
     },
     "execution_count": 11,
     "metadata": {},
     "output_type": "execute_result"
    }
   ],
   "source": [
    "L1ERC20Gateway_top_token_addresses"
   ]
  },
  {
   "cell_type": "markdown",
   "metadata": {},
   "source": [
    "## retreive ERC20 token balance for the L1ERC20Gateway escrow \n",
    "\n",
    "This is done in multiple batches due to long execution times"
   ]
  },
  {
   "cell_type": "markdown",
   "metadata": {},
   "source": [
    "### First batch"
   ]
  },
  {
   "cell_type": "code",
   "execution_count": null,
   "metadata": {},
   "outputs": [],
   "source": [
    "\n",
    "def get_token_balance(token_holding_address_checksum, token_address, contract, block_number):\n",
    "    try:\n",
    "        token_balance = contract.functions.balanceOf(token_holding_address_checksum).call(block_identifier=block_number)\n",
    "        has_error = False\n",
    "    except Exception as e:\n",
    "        token_balance = 0\n",
    "        has_error = True\n",
    "        #print(f\"Error getting token balance: {e}\")\n",
    "    return token_balance, has_error\n",
    "\n",
    "# Define the ERC20 contract ABI\n",
    "abi = [\n",
    "    {\n",
    "        'inputs': [],\n",
    "        'name': 'decimals',\n",
    "        'outputs': [{'internalType': 'uint8', 'name': '', 'type': 'uint8'}],\n",
    "        'stateMutability': 'view',\n",
    "        'type': 'function'\n",
    "    },\n",
    "    {\n",
    "        'inputs': [{'internalType': 'address', 'name': '', 'type': 'address'}],\n",
    "        'name': 'balanceOf',\n",
    "        'outputs': [{'internalType': 'uint256', 'name': '', 'type': 'uint256'}],\n",
    "        'stateMutability': 'view',\n",
    "        'type': 'function'\n",
    "    }\n",
    "]\n",
    "\n",
    "# Define the token addresses DataFrame\n",
    "token_addresses_df = L1ERC20Gateway_top_token_addresses\n",
    "\n",
    "token_holding_address = \"0xa3a7b6f88361f48403514059f1f16c8e78d60eec\"\n",
    "token_holding_address_checksum = web3.to_checksum_address(token_holding_address)\n",
    "\n",
    "# Create a contract instance for each token address\n",
    "contracts = {}\n",
    "for _, row in token_addresses_df.iterrows():\n",
    "    token_address = row['Token Address']\n",
    "    token_address_checksum = web3.to_checksum_address(token_address)\n",
    "    contract = web3.eth.contract(address=token_address_checksum, abi=abi)\n",
    "    contracts[token_address] = contract\n",
    "\n",
    "# Retrieve the token balances for each token address and block number, and store the results in a DataFrame\n",
    "balances = []\n",
    "for i, row in block_numbers_df.iloc[531:791].iterrows():\n",
    "    print(f\"Retrieving token balances for {row['Date']} - Block Number:{row['Block Number']} \")\n",
    "    for _, row2 in token_addresses_df.iterrows(): \n",
    "        token_decimals = row2['decimals']\n",
    "        token_address = row2['Token Address']\n",
    "        block_number = row['Block Number']\n",
    "        contract = contracts[token_address]\n",
    "        token_balance, has_error = get_token_balance(token_holding_address_checksum, token_address, contract, block_number)\n",
    "        #print(f\"On day {row['Date']} token address {token_address} had a balance of {token_balance} \")\n",
    "        #print(f\"Token balance for address {token_address} at Block-Nr. {row['Block Number']} is: {token_balance}\")\n",
    "        time.sleep(0.5)\n",
    "        balances.append({\n",
    "            'date': row['Date'],\n",
    "            'block_number': block_number,\n",
    "            'token_address': token_address,\n",
    "            'token_name': row2['coingecko_id'],\n",
    "            'token_decimals': row2['decimals'],\n",
    "            'balance': token_balance / 10**token_decimals,\n",
    "            'has_error': has_error\n",
    "        })\n",
    "\n",
    "L1ERC20Gateway_token_balances_per_day_part01 = pd.DataFrame(balances)\n"
   ]
  },
  {
   "cell_type": "code",
   "execution_count": null,
   "metadata": {},
   "outputs": [],
   "source": [
    "#L1ERC20Gateway_token_balances_per_day_part01.to_csv('L1ERC20Gateway/L1ERC20Gateway_token_balances_per_day_part01.csv', index=False)"
   ]
  },
  {
   "cell_type": "markdown",
   "metadata": {},
   "source": [
    "### Second batch"
   ]
  },
  {
   "cell_type": "code",
   "execution_count": null,
   "metadata": {
    "collapsed": true,
    "jupyter": {
     "outputs_hidden": true
    }
   },
   "outputs": [],
   "source": [
    "\n",
    "def get_token_balance(token_holding_address_checksum, token_address, contract, block_number):\n",
    "    try:\n",
    "        token_balance = contract.functions.balanceOf(token_holding_address_checksum).call(block_identifier=block_number)\n",
    "        has_error = False\n",
    "    except Exception as e:\n",
    "        token_balance = 0\n",
    "        has_error = True\n",
    "        print(f\"Error getting token balance for {token_address} at {block_number} because: {e}\")\n",
    "    return token_balance, has_error\n",
    "\n",
    "# Define the ERC20 contract ABI\n",
    "abi = [\n",
    "    {\n",
    "        'inputs': [],\n",
    "        'name': 'decimals',\n",
    "        'outputs': [{'internalType': 'uint8', 'name': '', 'type': 'uint8'}],\n",
    "        'stateMutability': 'view',\n",
    "        'type': 'function'\n",
    "    },\n",
    "    {\n",
    "        'inputs': [{'internalType': 'address', 'name': '', 'type': 'address'}],\n",
    "        'name': 'balanceOf',\n",
    "        'outputs': [{'internalType': 'uint256', 'name': '', 'type': 'uint256'}],\n",
    "        'stateMutability': 'view',\n",
    "        'type': 'function'\n",
    "    }\n",
    "]\n",
    "\n",
    "# Define the token addresses DataFrame\n",
    "token_addresses_df = L1ERC20Gateway_top_token_addresses\n",
    "\n",
    "token_holding_address = \"0xa3a7b6f88361f48403514059f1f16c8e78d60eec\"\n",
    "token_holding_address_checksum = web3.to_checksum_address(token_holding_address)\n",
    "\n",
    "# Create a contract instance for each token address\n",
    "contracts = {}\n",
    "for _, row in token_addresses_df.iterrows():\n",
    "    token_address = row['Token Address']\n",
    "    token_address_checksum = web3.to_checksum_address(token_address)\n",
    "    contract = web3.eth.contract(address=token_address_checksum, abi=abi)\n",
    "    contracts[token_address] = contract\n",
    "\n",
    "\n",
    "# Retrieve the token balances for each token address and block number, and store the results in a DataFrame\n",
    "balances = []\n",
    "for i, row in block_numbers_df.iloc[790:1000].iterrows():\n",
    "    print(f\"Retrieving token balances for {row['Date']} - Block Number:{row['Block Number']} \")\n",
    "    for _, row2 in token_addresses_df.iterrows(): \n",
    "        token_decimals = row2['decimals']\n",
    "        token_address = row2['Token Address']\n",
    "        block_number = row['Block Number']\n",
    "        contract = contracts[token_address]\n",
    "        token_balance, has_error = get_token_balance(token_holding_address_checksum, token_address, contract, block_number)\n",
    "        #print(f\"On day {row['Date']} token address {token_address} had a balance of {token_balance} \")\n",
    "        #print(f\"Token balance for address {token_address} at Block-Nr. {row['Block Number']} is: {token_balance}\")\n",
    "        time.sleep(0.8)\n",
    "        balances.append({\n",
    "            'date': row['Date'],\n",
    "            'block_number': block_number,\n",
    "            'token_address': token_address,\n",
    "            'token_name': row2['coingecko_id'],\n",
    "            'token_decimals': row2['decimals'],\n",
    "            'balance': token_balance / 10**token_decimals,\n",
    "            'has_error': has_error\n",
    "        })\n",
    "\n",
    "L1ERC20Gateway_token_balances_per_day_part02 = pd.DataFrame(balances)\n"
   ]
  },
  {
   "cell_type": "markdown",
   "metadata": {},
   "source": [
    "The Error \"Could not decode contract function call to balanceOf with return data\" appears if a Token has not been deployed at the time of retrieving the token balance."
   ]
  },
  {
   "cell_type": "code",
   "execution_count": null,
   "metadata": {},
   "outputs": [],
   "source": [
    "#L1ERC20Gateway_token_balances_per_day_part02.to_csv('L1ERC20Gateway/L1ERC20Gateway_token_balances_per_day_part02.csv', index=False)"
   ]
  },
  {
   "cell_type": "code",
   "execution_count": null,
   "metadata": {},
   "outputs": [],
   "source": []
  },
  {
   "cell_type": "markdown",
   "metadata": {},
   "source": [
    "## Third Batch"
   ]
  },
  {
   "cell_type": "code",
   "execution_count": null,
   "metadata": {
    "collapsed": true,
    "jupyter": {
     "outputs_hidden": true
    }
   },
   "outputs": [],
   "source": [
    "\n",
    "def get_token_balance(token_holding_address_checksum, token_address, contract, block_number):\n",
    "    try:\n",
    "        token_balance = contract.functions.balanceOf(token_holding_address_checksum).call(block_identifier=block_number)\n",
    "        has_error = False\n",
    "    except Exception as e:\n",
    "        token_balance = 0\n",
    "        has_error = True\n",
    "        print(f\"Error getting token balance for {token_address} at {block_number} because: {e}\")\n",
    "    return token_balance, has_error\n",
    "\n",
    "# Define the ERC20 contract ABI\n",
    "abi = [\n",
    "    {\n",
    "        'inputs': [],\n",
    "        'name': 'decimals',\n",
    "        'outputs': [{'internalType': 'uint8', 'name': '', 'type': 'uint8'}],\n",
    "        'stateMutability': 'view',\n",
    "        'type': 'function'\n",
    "    },\n",
    "    {\n",
    "        'inputs': [{'internalType': 'address', 'name': '', 'type': 'address'}],\n",
    "        'name': 'balanceOf',\n",
    "        'outputs': [{'internalType': 'uint256', 'name': '', 'type': 'uint256'}],\n",
    "        'stateMutability': 'view',\n",
    "        'type': 'function'\n",
    "    }\n",
    "]\n",
    "\n",
    "# Define the token addresses DataFrame\n",
    "token_addresses_df = L1ERC20Gateway_top_token_addresses\n",
    "\n",
    "token_holding_address = \"0xa3a7b6f88361f48403514059f1f16c8e78d60eec\"\n",
    "token_holding_address_checksum = web3.to_checksum_address(token_holding_address)\n",
    "\n",
    "# Create a contract instance for each token address\n",
    "contracts = {}\n",
    "for _, row in token_addresses_df.iterrows():\n",
    "    token_address = row['Token Address']\n",
    "    token_address_checksum = web3.to_checksum_address(token_address)\n",
    "    contract = web3.eth.contract(address=token_address_checksum, abi=abi)\n",
    "    contracts[token_address] = contract\n",
    "\n",
    "\n",
    "# Retrieve the token balances for each token address and block number, and store the results in a DataFrame\n",
    "balances = []\n",
    "for i, row in block_numbers_df.iloc[1000:].iterrows():\n",
    "    print(f\"Retrieving token balances for {row['Date']} - Block Number:{row['Block Number']} \")\n",
    "    for _, row2 in token_addresses_df.iterrows(): \n",
    "        token_decimals = row2['decimals']\n",
    "        token_address = row2['Token Address']\n",
    "        block_number = row['Block Number']\n",
    "        contract = contracts[token_address]\n",
    "        token_balance, has_error = get_token_balance(token_holding_address_checksum, token_address, contract, block_number)\n",
    "        #print(f\"On day {row['Date']} token address {token_address} had a balance of {token_balance} \")\n",
    "        #print(f\"Token balance for address {token_address} at Block-Nr. {row['Block Number']} is: {token_balance}\")\n",
    "        time.sleep(0.8)\n",
    "        balances.append({\n",
    "            'date': row['Date'],\n",
    "            'block_number': block_number,\n",
    "            'token_address': token_address,\n",
    "            'token_name': row2['coingecko_id'],\n",
    "            'token_decimals': row2['decimals'],\n",
    "            'balance': token_balance / 10**token_decimals,\n",
    "            'has_error': has_error\n",
    "        })\n",
    "\n",
    "L1ERC20Gateway_token_balances_per_day_part03 = pd.DataFrame(balances)\n"
   ]
  },
  {
   "cell_type": "code",
   "execution_count": 13,
   "metadata": {},
   "outputs": [],
   "source": [
    "#L1ERC20Gateway_token_balances_per_day_part03.to_csv('L1ERC20Gateway/L1ERC20Gateway_token_balances_per_day_part03.csv', index=False)"
   ]
  },
  {
   "cell_type": "markdown",
   "metadata": {},
   "source": [
    "<h1 style=\"color: blue; font-size: 36px; font-family: Arial;\">Custom Gateway Escrow</h1>\n",
    "Generic escrow"
   ]
  },
  {
   "cell_type": "code",
   "execution_count": null,
   "metadata": {},
   "outputs": [],
   "source": [
    "#contract-address: 0xcEe284F754E854890e311e3280b767F80797180d\n",
    "#created at Jun-16-2021 #at block 12647126\n"
   ]
  },
  {
   "cell_type": "code",
   "execution_count": 21,
   "metadata": {
    "collapsed": true,
    "jupyter": {
     "outputs_hidden": true
    }
   },
   "outputs": [
    {
     "name": "stdout",
     "output_type": "stream",
     "text": [
      "                                 Token Address\n",
      "0   0xa0b86991c6218b36c1d19d4a2e9eb0ce3606eb48\n",
      "1   0x4e352cf164e64adcbad318c3a1e222e9eba4ce42\n",
      "2   0x3642c0680329ae3e103e2b5ab29ddfed4d43cbe5\n",
      "3   0xdac17f958d2ee523a2206206994597c13d831ec7\n",
      "4   0x3258cd8134b6b28e814772dd91d5ecceea512818\n",
      "5   0x431ad2ff6a9c365805ebad47ee021148d6f7dbe0\n",
      "6   0x0ff5a8451a839f5f0bb3562689d9a44089738d11\n",
      "7   0x469eda64aed3a3ad6f868c44564291aa415cb1d9\n",
      "8   0xc4e15973e6ff2a35cc804c2cf9d2a1b817a8b40f\n",
      "9   0xcc069f8323858537158dc47f6c208c8174038af9\n",
      "10  0x3cd1833ce959e087d0ef0cb45ed06bffe60f23ba\n",
      "11  0x2a95fe4c7e64e09856989f9ea0b57b9ab5f770cb\n",
      "12  0xeabb8996ea1662cad2f7fb715127852cd3262ae9\n",
      "13  0x58b6a8a3302369daec383334672404ee733ab239\n",
      "14  0x20c375e822b6264e22941b74943f940a1cfe5f25\n",
      "15  0x1fed524867348ecea0a4d9aeae989794dbf8f631\n",
      "16  0x141c7c124e574a9be8a2ee654ac3b0ddc2d884be\n",
      "17  0x7379cbce70bba5a9871f97d33b391afba377e885\n",
      "18  0x17a10104cbc1ed155d083ead9fcf5c3440bb50e8\n",
      "19  0x1f068a896560632a4d2e05044bd7f03834f1a465\n",
      "20  0x57b946008913b82e4df85f501cbaed910e58d26c\n",
      "21  0x1c77d15857646687005dbbafff5873f4495a9731\n",
      "22  0x432c4e1b04a07902c22147ed4ef9eb7943f0618e\n",
      "23  0x12e951934246186f50146235d541d3bd1d463e4d\n",
      "24  0x956f824b5a37673c6fc4a6904186cb3ba499349b\n",
      "25  0x68ca006db91312cd60a2238ce775be5f9f738bba\n",
      "26  0xc08512927d12348f6620a698105e1baac6ecd911\n",
      "27  0x7a6b87d7a874fce4c2d923b09c0e09e4936bcf57\n",
      "28  0x643695d282f6ba237afe27ffe0acd89a86b50d3e\n",
      "29  0xa6de609807c7258a0d34f5307c1808f062a59794\n"
     ]
    }
   ],
   "source": [
    "import pandas as pd\n",
    "import requests\n",
    "\n",
    "# Replace API_KEY with your own Ethplorer API key\n",
    "API_KEY = \"YOUR-API-KEY\"\n",
    "\n",
    "# Replace CONTRACT_ADDRESS with the address of the contract you want to query\n",
    "CONTRACT_ADDRESS = \"0xcEe284F754E854890e311e3280b767F80797180d\"\n",
    "\n",
    "# Construct the API endpoint URL\n",
    "url = f\"https://api.ethplorer.io/getAddressInfo/{CONTRACT_ADDRESS}?apiKey={API_KEY}\"\n",
    "\n",
    "# Send the API request and parse the response as JSON\n",
    "response = requests.get(url)\n",
    "data = response.json()\n",
    "\n",
    "# Get the list of token balances held by the contract\n",
    "token_balances = data.get(\"tokens\", [])\n",
    "\n",
    "# Create an empty DataFrame\n",
    "token_addresses_held_L1CustomGateway = pd.DataFrame(columns=[\"Token Address\"])\n",
    "\n",
    "# Append each token address to a new row in the DataFrame\n",
    "for token_balance in token_balances:\n",
    "    token_address = token_balance.get(\"tokenInfo\", {}).get(\"address\")\n",
    "    token_addresses_held_L1CustomGateway = token_addresses_held_L1CustomGateway.append({\"Token Address\": token_address}, ignore_index=True)\n",
    "\n",
    "# Print the DataFrame\n",
    "print(token_addresses_held_L1CustomGateway)\n"
   ]
  },
  {
   "cell_type": "code",
   "execution_count": 17,
   "metadata": {},
   "outputs": [],
   "source": []
  },
  {
   "cell_type": "markdown",
   "metadata": {},
   "source": [
    "all token_addresses held by the escrow that also appear in the top 300 of CoinGecko"
   ]
  },
  {
   "cell_type": "code",
   "execution_count": 19,
   "metadata": {},
   "outputs": [],
   "source": [
    "# all token_addresses held by the escrow that also appear in the top 300 of CoinGecko\n",
    "L1CustomGateway_top_token_addresses = pd.merge(top_tokens_addresses, token_addresses_held_L1CustomGateway, left_on=\"token_address\", right_on=\"Token Address\")\n",
    "L1CustomGateway_top_token_addresses['token_address'] = L1CustomGateway_top_token_addresses['token_address'].apply(lambda x: web3.to_checksum_address(x))\n"
   ]
  },
  {
   "cell_type": "code",
   "execution_count": null,
   "metadata": {},
   "outputs": [],
   "source": [
    "\n",
    "def get_token_balance(token_holding_address_checksum, token_address, contract, block_number):\n",
    "    try:\n",
    "        token_balance = contract.functions.balanceOf(token_holding_address_checksum).call(block_identifier=block_number)\n",
    "        has_error = False\n",
    "    except Exception as e:\n",
    "        token_balance = 0\n",
    "        has_error = True\n",
    "        print(f\"Error getting token balance: {e}\")\n",
    "    return token_balance, has_error\n",
    "\n",
    "# Define the ERC20 contract ABI\n",
    "abi = [\n",
    "    {\n",
    "        'inputs': [],\n",
    "        'name': 'decimals',\n",
    "        'outputs': [{'internalType': 'uint8', 'name': '', 'type': 'uint8'}],\n",
    "        'stateMutability': 'view',\n",
    "        'type': 'function'\n",
    "    },\n",
    "    {\n",
    "        'inputs': [{'internalType': 'address', 'name': '', 'type': 'address'}],\n",
    "        'name': 'balanceOf',\n",
    "        'outputs': [{'internalType': 'uint256', 'name': '', 'type': 'uint256'}],\n",
    "        'stateMutability': 'view',\n",
    "        'type': 'function'\n",
    "    }\n",
    "]\n",
    "\n",
    "# Define the token addresses DataFrame\n",
    "token_addresses_df = L1CustomGateway_top_token_addresses\n",
    "\n",
    "token_holding_address = \"0xcEe284F754E854890e311e3280b767F80797180d\"\n",
    "token_holding_address_checksum = web3.to_checksum_address(token_holding_address)\n",
    "\n",
    "# Create a contract instance for each token address\n",
    "contracts = {}\n",
    "for _, row in token_addresses_df.iterrows():\n",
    "    token_address = row['Token Address']\n",
    "    token_address_checksum = web3.to_checksum_address(token_address)\n",
    "    contract = web3.eth.contract(address=token_address_checksum, abi=abi)\n",
    "    contracts[token_address] = contract\n",
    "\n",
    "# Retrieve the token balances for each token address and block number, and store the results in a DataFrame\n",
    "balances = []\n",
    "for i, row in block_numbers_df.iloc[532:].iterrows():\n",
    "    print(f\"Retrieving token balances for {row['Date']} - Block Number:{row['Block Number']} \")\n",
    "    for _, row2 in token_addresses_df.iterrows(): \n",
    "        token_decimals = row2['decimals']\n",
    "        token_address = row2['Token Address']\n",
    "        block_number = row['Block Number']\n",
    "        contract = contracts[token_address]\n",
    "        token_balance, has_error = get_token_balance(token_holding_address_checksum, token_address, contract, block_number)\n",
    "        #print(f\"On day {row['Date']} token address {token_address} had a balance of {token_balance} \")\n",
    "        #print(f\"Token balance for address {token_address} at Block-Nr. {row['Block Number']} is: {token_balance}\")\n",
    "        time.sleep(0.5)\n",
    "        balances.append({\n",
    "            'date': row['Date'],\n",
    "            'block_number': block_number,\n",
    "            'token_address': token_address,\n",
    "            'token_name': row2['coingecko_id'],\n",
    "            'token_decimals': row2['decimals'],\n",
    "            'balance': token_balance / 10**token_decimals,\n",
    "            'has_error': has_error\n",
    "        })\n",
    "        \n",
    "L1CustomGateway_token_balances_per_day = pd.DataFrame(balances)\n"
   ]
  },
  {
   "cell_type": "code",
   "execution_count": 29,
   "metadata": {},
   "outputs": [],
   "source": [
    "#L1CustomGateway_token_balances_per_day.to_csv('L1CustomGateway/L1CustomGateway_token_balances_per_day.csv', index=False)\n"
   ]
  },
  {
   "cell_type": "markdown",
   "metadata": {},
   "source": [
    "<h1 style=\"color: blue; font-size: 36px; font-family: Arial;\">Bridge Escrow (ETH)</h1>\n",
    "ETH escrow\n",
    "contract address: "
   ]
  },
  {
   "cell_type": "code",
   "execution_count": null,
   "metadata": {},
   "outputs": [],
   "source": [
    "#contract-address: 0x8315177aB297bA92A06054cE80a67Ed4DBd7ed3a\n",
    "#created at Aug-25-2022 #at block 15411056\n"
   ]
  },
  {
   "cell_type": "code",
   "execution_count": null,
   "metadata": {},
   "outputs": [],
   "source": []
  },
  {
   "cell_type": "markdown",
   "metadata": {},
   "source": [
    "## Retreive ETH Balance of the escrow"
   ]
  },
  {
   "cell_type": "code",
   "execution_count": null,
   "metadata": {
    "collapsed": true,
    "jupyter": {
     "outputs_hidden": true
    }
   },
   "outputs": [],
   "source": [
    "# New function to retrieve Ether balance of a smart contract at a specific block number\n",
    "def get_contract_eth_balance(escrow_checksum, block_number):\n",
    "    return web3.eth.get_balance(escrow_checksum, block_identifier=block_number)\n",
    "\n",
    "\n",
    "escrow = \"0x8315177aB297bA92A06054cE80a67Ed4DBd7ed3a\"\n",
    "escrow_checksum = web3.to_checksum_address(escrow)\n",
    "\n",
    "# Retrieve the token and Ether balances for each token address and block number, and store the results in a DataFrame\n",
    "token_address = \"ether\"\n",
    "token_name = \"ethereum\"\n",
    "token_decimals = 18\n",
    "\n",
    "balances = []\n",
    "for i, row in block_numbers_df.iloc[967:].iterrows():\n",
    "\n",
    "    block_number = row['Block Number']\n",
    "    eth_balance = get_contract_eth_balance(escrow_checksum, block_number) / 10**token_decimals # Convert Wei to Ether\n",
    "    print(f\"Retrieving balances for {row['Date']} - Block Number:{row['Block Number']} - balance:{eth_balance}  \")    \n",
    "    balances.append({\n",
    "            'date': row['Date'],\n",
    "            'block_number': block_number,\n",
    "            'token_address': token_address,\n",
    "            'token_name': token_name,\n",
    "            'token_decimals': token_decimals,\n",
    "            'token_balance': eth_balance,\n",
    "        })\n",
    "    time.sleep(0.5)\n",
    "        \n",
    "L1Bridge_balances_per_day = pd.DataFrame(balances)\n"
   ]
  },
  {
   "cell_type": "code",
   "execution_count": 28,
   "metadata": {},
   "outputs": [],
   "source": [
    "#L1Bridge_balances_per_day.to_csv('L1Bridge/L1Bridge_balances_per_day.csv', index=False)"
   ]
  },
  {
   "cell_type": "code",
   "execution_count": 22,
   "metadata": {},
   "outputs": [],
   "source": []
  },
  {
   "cell_type": "code",
   "execution_count": null,
   "metadata": {},
   "outputs": [],
   "source": []
  },
  {
   "cell_type": "markdown",
   "metadata": {},
   "source": [
    "<h1 style=\"color: blue; font-size: 36px; font-family: Arial;\">DAI Escrow (DAI)</h1>\n",
    "DAI escrow"
   ]
  },
  {
   "cell_type": "code",
   "execution_count": null,
   "metadata": {},
   "outputs": [],
   "source": [
    "#contract-address: 0xA10c7CE4b876998858b1a9E12b10092229539400\n",
    "#created at Sep-20-2021 #at block 13262081\n"
   ]
  },
  {
   "cell_type": "markdown",
   "metadata": {},
   "source": [
    "## Retreive DAI Balance of the escrow"
   ]
  },
  {
   "cell_type": "code",
   "execution_count": null,
   "metadata": {},
   "outputs": [],
   "source": [
    "def get_token_balance(token_holding_address_checksum, token_address, contract, block_number):\n",
    "    try:\n",
    "        token_balance = contract.functions.balanceOf(token_holding_address_checksum).call(block_identifier=block_number)\n",
    "        has_error = False\n",
    "    except Exception as e:\n",
    "        token_balance = 0\n",
    "        has_error = True\n",
    "        print(f\"Error getting token balance: {e}\")\n",
    "    return token_balance, has_error\n",
    "\n",
    "# Define the ERC20 contract ABI\n",
    "abi = [\n",
    "    {\n",
    "        'inputs': [],\n",
    "        'name': 'decimals',\n",
    "        'outputs': [{'internalType': 'uint8', 'name': '', 'type': 'uint8'}],\n",
    "        'stateMutability': 'view',\n",
    "        'type': 'function'\n",
    "    },\n",
    "    {\n",
    "        'inputs': [{'internalType': 'address', 'name': '', 'type': 'address'}],\n",
    "        'name': 'balanceOf',\n",
    "        'outputs': [{'internalType': 'uint256', 'name': '', 'type': 'uint256'}],\n",
    "        'stateMutability': 'view',\n",
    "        'type': 'function'\n",
    "    }\n",
    "]\n",
    "\n",
    "# Define the token address\n",
    "token_address = \"0x6B175474E89094C44Da98b954EedeAC495271d0F\"\n",
    "token_address_checksum = web3.to_checksum_address(token_address)\n",
    "\n",
    "token_holding_address = \"0xA10c7CE4b876998858b1a9E12b10092229539400\"\n",
    "token_holding_address_checksum = web3.to_checksum_address(token_holding_address)\n",
    "\n",
    "# Create a contract instance for the token address\n",
    "contract = web3.eth.contract(address=token_address_checksum, abi=abi)\n",
    "\n",
    "# Retrieve the token balances for each block number, and store the results in a DataFrame\n",
    "balances = []\n",
    "for i, row in block_numbers_df.iloc[553:].iterrows():\n",
    "    \n",
    "    token_decimals = 18  # Assuming 18 decimal places for the DAI token\n",
    "    block_number = row['Block Number']\n",
    "    token_balance, has_error = get_token_balance(token_holding_address_checksum, token_address, contract, block_number)\n",
    "    print(f\"Retrieving token balance for {row['Date']} - Block Number:{row['Block Number']} - balance: {token_balance} \")\n",
    "    time.sleep(0.5)\n",
    "    balances.append({\n",
    "        'date': row['Date'],\n",
    "        'block_number': block_number,\n",
    "        'token_address': token_address,\n",
    "        'token_name': 'dai',  \n",
    "        'token_decimals': token_decimals,\n",
    "        'balance': token_balance / 10**token_decimals,\n",
    "        'has_error': has_error\n",
    "    })\n",
    "\n",
    "L1DaiEscrow_balances_per_day = pd.DataFrame(balances)\n"
   ]
  },
  {
   "cell_type": "code",
   "execution_count": null,
   "metadata": {},
   "outputs": [],
   "source": [
    "L1DaiEscrow_balances_per_day"
   ]
  },
  {
   "cell_type": "code",
   "execution_count": 33,
   "metadata": {},
   "outputs": [],
   "source": [
    "#L1DaiEscrow_balances_per_day.to_csv('L1DaiEscrow/L1DaiEscrow_balances_per_day.csv', index=False)\n"
   ]
  },
  {
   "cell_type": "code",
   "execution_count": 21,
   "metadata": {},
   "outputs": [],
   "source": []
  },
  {
   "cell_type": "markdown",
   "metadata": {},
   "source": [
    "<h1 style=\"color: blue; font-size: 36px; font-family: Arial;\">OLD Bridge (ETH)</h1>\n",
    "for historic data"
   ]
  },
  {
   "cell_type": "code",
   "execution_count": null,
   "metadata": {},
   "outputs": [],
   "source": [
    "#contract-address: 0x011B6E24FfB0B5f5fCc564cf4183C5BBBc96D515\n",
    "#created at May-28-2021 at block 12525700\n"
   ]
  },
  {
   "cell_type": "code",
   "execution_count": null,
   "metadata": {
    "collapsed": true,
    "jupyter": {
     "outputs_hidden": true
    }
   },
   "outputs": [],
   "source": [
    "\n",
    "# New function to retrieve Ether balance of a smart contract at a specific block number\n",
    "def get_contract_eth_balance(escrow_checksum, block_number):\n",
    "    return web3.eth.get_balance(escrow_checksum, block_identifier=block_number)\n",
    "\n",
    "\n",
    "escrow = \"0x011B6E24FfB0B5f5fCc564cf4183C5BBBc96D515\"\n",
    "escrow_checksum = web3.to_checksum_address(escrow)\n",
    "\n",
    "# Retrieve the token and Ether balances for each token address and block number, and store the results in a DataFrame\n",
    "token_address = \"ether\"\n",
    "token_name = \"ethereum\"\n",
    "token_decimals = 18\n",
    "\n",
    "#May-28-2021\n",
    "balances = []\n",
    "for i, row in block_numbers_df.iloc[513:].iterrows():\n",
    "\n",
    "    block_number = row['Block Number']\n",
    "    eth_balance = get_contract_eth_balance(escrow_checksum, block_number) / 10**token_decimals # Convert Wei to Ether\n",
    "    print(f\"Retrieving balances for {row['Date']} - Block Number:{row['Block Number']} - balance:{eth_balance}  \")    \n",
    "    balances.append({\n",
    "            'date': row['Date'],\n",
    "            'block_number': block_number,\n",
    "            'token_address': token_address,\n",
    "            'token_name': token_name,\n",
    "            'token_decimals': token_decimals,\n",
    "            'token_balance': eth_balance,\n",
    "        })\n",
    "    time.sleep(0.5)\n",
    "        \n",
    "L1OldBridge_balances_per_day = pd.DataFrame(balances)\n"
   ]
  },
  {
   "cell_type": "code",
   "execution_count": 99,
   "metadata": {},
   "outputs": [],
   "source": [
    "#L1OldBridge_balances_per_day.to_csv('L1OldBridge/L1OldBridge_balances_per_day.csv', index=False)"
   ]
  },
  {
   "cell_type": "markdown",
   "metadata": {},
   "source": [
    "<h1 style=\"color: blue; font-size: 36px; font-family: Arial;\">Combining the Escrows</h1>\n"
   ]
  },
  {
   "cell_type": "code",
   "execution_count": 12,
   "metadata": {},
   "outputs": [],
   "source": [
    "L1ERC20Gateway_token_balances_per_day_part01 = pd.read_csv('L1ERC20Gateway/L1ERC20Gateway_token_balances_per_day_part01.csv') \n",
    "L1ERC20Gateway_token_balances_per_day_part02 = pd.read_csv('L1ERC20Gateway/L1ERC20Gateway_token_balances_per_day_part02.csv') \n",
    "L1ERC20Gateway_token_balances_per_day_part03 = pd.read_csv('L1ERC20Gateway/L1ERC20Gateway_token_balances_per_day_part03.csv') \n",
    "\n",
    "\n",
    "L1ERC20Gateway_token_balances_per_day_part01['escrow_address'] = '0xa3A7B6F88361F48403514059F1F16C8E78d60EeC'\n",
    "L1ERC20Gateway_token_balances_per_day_part01['escrow_address_rdbl'] = 'L1ERC20Gateway'\n",
    "L1ERC20Gateway_token_balances_per_day_part01 = L1ERC20Gateway_token_balances_per_day_part01.drop(columns=['has_error'])\n",
    "\n",
    "L1ERC20Gateway_token_balances_per_day_part02['escrow_address'] = '0xa3A7B6F88361F48403514059F1F16C8E78d60EeC'\n",
    "L1ERC20Gateway_token_balances_per_day_part02['escrow_address_rdbl'] = 'L1ERC20Gateway'\n",
    "L1ERC20Gateway_token_balances_per_day_part02 = L1ERC20Gateway_token_balances_per_day_part02.drop(columns=['has_error'])\n",
    "\n",
    "\n",
    "L1ERC20Gateway_token_balances_per_day_part03['escrow_address'] = '0xa3A7B6F88361F48403514059F1F16C8E78d60EeC'\n",
    "L1ERC20Gateway_token_balances_per_day_part03['escrow_address_rdbl'] = 'L1ERC20Gateway'\n",
    "L1ERC20Gateway_token_balances_per_day_part03 = L1ERC20Gateway_token_balances_per_day_part03.drop(columns=['has_error'])\n"
   ]
  },
  {
   "cell_type": "code",
   "execution_count": 13,
   "metadata": {},
   "outputs": [],
   "source": [
    "L1CustomGateway_token_balances_per_day = pd.read_csv('L1CustomGateway/L1CustomGateway_token_balances_per_day.csv')\n",
    "\n",
    "L1CustomGateway_token_balances_per_day['escrow_address'] = '0xcEe284F754E854890e311e3280b767F80797180d'\n",
    "L1CustomGateway_token_balances_per_day['escrow_address_rdbl'] = 'L1CustomGateway'\n",
    "L1CustomGateway_token_balances_per_day = L1CustomGateway_token_balances_per_day.drop(columns=['has_error'])\n",
    "\n"
   ]
  },
  {
   "cell_type": "code",
   "execution_count": 14,
   "metadata": {},
   "outputs": [],
   "source": [
    "L1Bridge_balances_per_day = pd.read_csv('L1Bridge/L1Bridge_balances_per_day.csv')\n",
    "\n",
    "L1Bridge_balances_per_day = L1Bridge_balances_per_day.rename(columns={'token_balance': 'balance'})\n",
    "L1Bridge_balances_per_day['escrow_address'] = '0x8315177aB297bA92A06054cE80a67Ed4DBd7ed3a'\n",
    "L1Bridge_balances_per_day['escrow_address_rdbl'] = 'L1Bridge'"
   ]
  },
  {
   "cell_type": "code",
   "execution_count": 15,
   "metadata": {},
   "outputs": [],
   "source": [
    "L1OldBridge_balances_per_day = pd.read_csv('L1OldBridge/L1OldBridge_balances_per_day.csv')\n",
    "\n",
    "L1OldBridge_balances_per_day = L1OldBridge_balances_per_day.rename(columns={'token_balance': 'balance'})\n",
    "L1OldBridge_balances_per_day['escrow_address'] = '0x011B6E24FfB0B5f5fCc564cf4183C5BBBc96D515'\n",
    "L1OldBridge_balances_per_day['escrow_address_rdbl'] = 'L1OldBridge'"
   ]
  },
  {
   "cell_type": "code",
   "execution_count": 16,
   "metadata": {},
   "outputs": [],
   "source": [
    "L1DaiEscrow_balances_per_day = pd.read_csv('L1DaiEscrow/L1DaiEscrow_balances_per_day.csv')\n",
    "\n",
    "L1DaiEscrow_balances_per_day['escrow_address'] = '0xA10c7CE4b876998858b1a9E12b10092229539400'\n",
    "L1DaiEscrow_balances_per_day['escrow_address_rdbl'] = 'L1DaiGateway'\n",
    "L1DaiEscrow_balances_per_day = L1DaiEscrow_balances_per_day.drop(columns=['has_error'])\n"
   ]
  },
  {
   "cell_type": "code",
   "execution_count": 17,
   "metadata": {},
   "outputs": [],
   "source": [
    "# create a list of the dataframes\n",
    "dfs = [L1ERC20Gateway_token_balances_per_day_part01,\n",
    "       L1ERC20Gateway_token_balances_per_day_part02,\n",
    "       L1ERC20Gateway_token_balances_per_day_part03,\n",
    "       L1CustomGateway_token_balances_per_day, \n",
    "       L1Bridge_balances_per_day,\n",
    "       L1OldBridge_balances_per_day,\n",
    "       L1DaiEscrow_balances_per_day]\n",
    "\n",
    "# concatenate the dataframes along the rows\n",
    "arbitrum_escrow_balances = pd.concat(dfs, ignore_index=True)"
   ]
  },
  {
   "cell_type": "code",
   "execution_count": 20,
   "metadata": {},
   "outputs": [],
   "source": [
    "arbitrum_escrow_balances = arbitrum_escrow_balances[arbitrum_escrow_balances['date'] < '2023-04-30']\n",
    "arbitrum_escrow_balances['token_address'] = arbitrum_escrow_balances['token_address'].apply(lambda x: web3.to_checksum_address(x) if x != 'ether' else x)\n",
    "\n",
    "price_data = pd.read_csv('../../utils/price-data/price_data.csv') \n",
    "price_data['token_address'] = price_data['token_address'].apply(lambda x: web3.to_checksum_address(x) if x != 'ether' else x)\n"
   ]
  },
  {
   "cell_type": "code",
   "execution_count": 21,
   "metadata": {},
   "outputs": [],
   "source": [
    "arbitrum_escrow_balances['date'] = pd.to_datetime(arbitrum_escrow_balances['date'])\n",
    "price_data['timestamp'] = pd.to_datetime(price_data['timestamp'])\n",
    "price_data['token_address'] = price_data['token_address'].astype(str)\n",
    "arbitrum_escrow_balances['token_address'] = arbitrum_escrow_balances['token_address'].astype(str)"
   ]
  },
  {
   "cell_type": "markdown",
   "metadata": {},
   "source": [
    "#### there are some rows that could not have merged, due to missing price data on CoinGecko. \n",
    "In some instances, CoinGecko did not immediately list certain tokens following the deployment of their smart contracts resulting in a small number of days that could not be taken into account for our analysis"
   ]
  },
  {
   "cell_type": "code",
   "execution_count": 22,
   "metadata": {},
   "outputs": [
    {
     "name": "stdout",
     "output_type": "stream",
     "text": [
      "timestamp    True\n",
      "price        True\n",
      "dtype: bool\n"
     ]
    }
   ],
   "source": [
    "merged_df = arbitrum_escrow_balances.merge(price_data, left_on=['token_address', 'date'], right_on=['token_address', 'timestamp'], how='left')\n",
    "missing_values = merged_df[['timestamp', 'price']].isna().any()\n",
    "print(missing_values)"
   ]
  },
  {
   "cell_type": "code",
   "execution_count": 23,
   "metadata": {},
   "outputs": [],
   "source": [
    "arbitrum_escrows_final = arbitrum_escrow_balances.merge(price_data, left_on=['token_address', 'date'], right_on=['token_address', 'timestamp'])"
   ]
  },
  {
   "cell_type": "code",
   "execution_count": 25,
   "metadata": {},
   "outputs": [],
   "source": [
    "arbitrum_escrows_final['balance_usd'] = arbitrum_escrows_final['balance'] * arbitrum_escrows_final['price']"
   ]
  },
  {
   "cell_type": "code",
   "execution_count": 5,
   "metadata": {},
   "outputs": [],
   "source": [
    "#can be disregarded and will be overwritten with the correct value in eth in the analysis part\n",
    "arbitrum_escrows_final['token_amount'] = arbitrum_escrows_final['balance'] * 10 ** arbitrum_escrows_final['token_decimals']\n",
    "\n",
    "def wei_to_eth(wei_value):\n",
    "    # 1 Ether (ETH) is equivalent to 10^18 Wei\n",
    "    eth_value = wei_value * 1e-18\n",
    "    return eth_value\n",
    "\n",
    "# Apply the conversion function and add a new column\n",
    "arbitrum_escrows_final[\"balance_eth\"] = arbitrum_escrows_final[\"token_amount\"].apply(wei_to_eth)"
   ]
  },
  {
   "cell_type": "markdown",
   "metadata": {},
   "source": [
    "### save final df"
   ]
  },
  {
   "cell_type": "code",
   "execution_count": 24,
   "metadata": {},
   "outputs": [],
   "source": [
    "#arbitrum_escrows_final.to_csv('../../data/arbitrum_escrows_final.csv', index=False)"
   ]
  }
 ],
 "metadata": {
  "kernelspec": {
   "display_name": "Python 3",
   "language": "python",
   "name": "python3"
  },
  "language_info": {
   "codemirror_mode": {
    "name": "ipython",
    "version": 3
   },
   "file_extension": ".py",
   "mimetype": "text/x-python",
   "name": "python",
   "nbconvert_exporter": "python",
   "pygments_lexer": "ipython3",
   "version": "3.11.2"
  }
 },
 "nbformat": 4,
 "nbformat_minor": 4
}
