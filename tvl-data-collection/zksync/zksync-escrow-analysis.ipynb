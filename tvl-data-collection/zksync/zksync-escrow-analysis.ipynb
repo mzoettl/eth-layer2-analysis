{
 "cells": [
  {
   "cell_type": "code",
   "execution_count": 16,
   "metadata": {},
   "outputs": [],
   "source": [
    "#!pip install web3"
   ]
  },
  {
   "cell_type": "code",
   "execution_count": 17,
   "metadata": {},
   "outputs": [],
   "source": [
    "import pandas as pd\n",
    "import requests\n",
    "import datetime\n",
    "import time\n",
    "import json\n",
    "from web3 import Web3 as web3\n",
    "import numpy as np\n",
    "from web3 import Web3"
   ]
  },
  {
   "cell_type": "code",
   "execution_count": null,
   "metadata": {},
   "outputs": [],
   "source": [
    "# Initialize a Web3 instance\n",
    "infura_project_id = 'YOUR-PROJECT-ID'\n",
    "infura_url = f'https://mainnet.infura.io/v3/{infura_project_id}'\n",
    "\n",
    "web3 = Web3(Web3.HTTPProvider(infura_url))"
   ]
  },
  {
   "cell_type": "code",
   "execution_count": 4,
   "metadata": {},
   "outputs": [],
   "source": [
    "#introduce a caching layer to reduce API calls\n",
    "\n",
    "from web3.middleware import geth_poa_middleware, simple_cache_middleware\n",
    "# add the geth_poa_middleware to handle POA chains\n",
    "web3.middleware_onion.inject(geth_poa_middleware, layer=0)\n",
    "\n",
    "# add the simple_cache_middleware to cache responses\n",
    "web3.middleware_onion.add(simple_cache_middleware)"
   ]
  },
  {
   "cell_type": "code",
   "execution_count": null,
   "metadata": {},
   "outputs": [],
   "source": [
    "#load top token addresses and block numbers that will be needed later on\n",
    "top_tokens_addresses = pd.read_csv('../../utils/price-data/top_tokens_addresses.csv') \n",
    "block_numbers_df = pd.read_csv('../../utils/block-numbers/block_numbers_2020-01-2023-04.csv')"
   ]
  },
  {
   "cell_type": "markdown",
   "metadata": {},
   "source": [
    "<h1 style=\"color: blue; font-size: 36px; font-family: Arial;\">  ZkSync ERC20 Escrow</h1>\n",
    "\n"
   ]
  },
  {
   "cell_type": "code",
   "execution_count": 2,
   "metadata": {},
   "outputs": [],
   "source": [
    "#contract-address: 0x57891966931Eb4Bb6FB81430E6cE0A03AAbDe063\n",
    "#created at 14-02-2023 #at block 16626406\n"
   ]
  },
  {
   "cell_type": "code",
   "execution_count": 28,
   "metadata": {
    "collapsed": true,
    "jupyter": {
     "outputs_hidden": true
    }
   },
   "outputs": [
    {
     "name": "stdout",
     "output_type": "stream",
     "text": [
      "                                 Token Address\n",
      "0   0xa49d7499271ae71cd8ab9ac515e6694c755d400c\n",
      "1   0x471ea49dd8e60e697f4cac262b5fafcc307506e4\n",
      "2   0xa0b86991c6218b36c1d19d4a2e9eb0ce3606eb48\n",
      "3   0xbc396689893d065f41bc2c6ecbee5e0085233447\n",
      "4   0xffffffff2ba8f66d4e51811c5190992176930278\n",
      "5   0xf655c8567e0f213e6c634cd2a68d992152161dc6\n",
      "6   0xba100000625a3754423978a60c9317c58a424e3d\n",
      "7   0x5f98805a4e8be255a32880fdec7f6728c6568ba0\n",
      "8   0x95b3497bbcccc46a8f45f5cf54b0878b39f8d96c\n",
      "9   0xc17272c3e15074c55b810bceba02ba0c4481cd79\n",
      "10  0xf9c53268e9de692ae1b2ea5216e24e1c3ad7cb1e\n",
      "11  0x63a3ae78711b52fb75a03acf9996f18ab611b877\n",
      "12  0xdac17f958d2ee523a2206206994597c13d831ec7\n",
      "13  0xcda4e840411c00a614ad9205caec807c7458a0e3\n",
      "14  0x5f64ab1544d28732f0a24f4713c2c8ec0da089f0\n",
      "15  0xa487bf43cf3b10dffc97a9a744cbb7036965d3b9\n",
      "16  0x4691937a7508860f876c9c0a2a617e7d9e945d4b\n",
      "17  0xeeaa40b28a2d1b0b08f6f97bb1dd4b75316c6107\n",
      "18  0xdddddd4301a082e62e84e43f474f044423921918\n",
      "19  0x111111111117dc0aa78b770fa6a738034120c302\n",
      "20  0xc63e1f3fdae49e9ef5951ab5e84334a6934ce767\n",
      "21  0x108a850856db3f85d0269a2693d896b394c80325\n",
      "22  0xa6de609807c7258a0d34f5307c1808f062a59794\n",
      "23  0x4fabb145d64652a948d72533023f6e7a623c7c53\n",
      "24  0x2260fac5e5542a773aa44fbcfedf7c193bc2c599\n",
      "25  0x6982508145454ce325ddbe47a25d4ec3d2311933\n",
      "26  0xd38bb40815d2b0c2d2c866e0c72c5728ffc76dd9\n",
      "27  0xd38e031f4529a07996aab977d2b79f0e00656c56\n",
      "28  0xc02aaa39b223fe8d0a0e5c4f27ead9083c756cc2\n",
      "29  0x6dea81c8171d0ba574754ef6f8b412f2ed88c54d\n",
      "30  0x76054592d1f789ea5958971fb3ba6628334faa86\n",
      "31  0xd33526068d116ce69f19a9ee46f0bd304f21a51f\n",
      "32  0xae78736cd615f374d3085123a210448e74fc6393\n",
      "33  0xbe9895146f7af43049ca1c1ae358b0541ea49704\n",
      "34  0x459706cc06a2095266e623a5684126130e74b930\n",
      "35  0x1ed81e03d7ddb67a21755d02ed2f24da71c27c55\n",
      "36  0xfac77a24e52b463ba9857d6b758ba41ae20e31ff\n",
      "37  0xa91ac63d040deb1b7a5e4d4134ad23eb0ba07e14\n",
      "38  0xe963e120f818f15420ea3dad0083289261923c2e\n",
      "39  0x4e9e4ab99cfc14b852f552f5fb3aa68617825b6c\n",
      "40  0x21ead867c8c5181854f6f8ce71f75b173d2bc16a\n",
      "41  0x3bdffa70f4b4e6985eed50453c7c0d4a15dcec52\n",
      "42  0xdefa4e8a7bcba345f687a2f1456f5edd9ce97202\n",
      "43  0xc91a71a1ffa3d8b22ba615ba1b9c01b2bbbf55ad\n",
      "44  0xf939e0a03fb07f59a73314e73794be0e57ac1b4e\n",
      "45  0x53fffb19bacd44b82e204d036d579e86097e5d09\n",
      "46  0xab3af7f0c93ec60bce469649bfefda0de0980993\n",
      "47  0xbf067cc9b13d11f7d370b825b4d9f695239ffb9b\n",
      "48  0x245151454c790eb870498e9e5b590145fac1463f\n",
      "49  0x9b7469e83a09165ec0c42ed6220456afc1fa6a80\n",
      "50  0x8a7adc1b690e81c758f1bd0f72dfe27ae6ec56a5\n",
      "51  0xc6b50d3c36482cba08d2b60183ae17d75b90fdc9\n",
      "52  0x7448c7456a97769f6cd04f1e83a4a23ccdc46abd\n",
      "53  0x1571ed0bed4d987fe2b498ddbae7dfa19519f651\n",
      "54  0xcf0c122c6b73ff809c693db761e7baebe62b6a2e\n",
      "55  0x95ad61b0a150d79219dcf64e1e6cc01f0b64c4ce\n",
      "56  0xbb94d52b84568beb26106f5cc66c29f352d85f8d\n"
     ]
    }
   ],
   "source": [
    "import pandas as pd\n",
    "import requests\n",
    "\n",
    "# Replace API_KEY with your own Ethplorer API key\n",
    "API_KEY = \"YOUR-API-KEY\"\n",
    "\n",
    "# Replace CONTRACT_ADDRESS with the address of the contract you want to query\n",
    "CONTRACT_ADDRESS = \"0x57891966931Eb4Bb6FB81430E6cE0A03AAbDe063\"\n",
    "\n",
    "# Construct the API endpoint URL\n",
    "url = f\"https://api.ethplorer.io/getAddressInfo/{CONTRACT_ADDRESS}?apiKey={API_KEY}\"\n",
    "\n",
    "# Send the API request and parse the response as JSON\n",
    "response = requests.get(url)\n",
    "data = response.json()\n",
    "# Get the list of token balances held by the contract\n",
    "token_balances = data.get(\"tokens\", [])\n",
    "\n",
    "# Create an empty DataFrame\n",
    "token_addresses_held_erc20 = pd.DataFrame(columns=[\"Token Address\"])\n",
    "\n",
    "# Append each token address to a new row in the DataFrame\n",
    "for token_balance in token_balances:\n",
    "    token_address = token_balance.get(\"tokenInfo\", {}).get(\"address\")\n",
    "    token_addresses_held_erc20 = token_addresses_held_erc20.append({\"Token Address\": token_address}, ignore_index=True)\n",
    "\n",
    "# Print the DataFrame\n",
    "print(token_addresses_held_erc20)"
   ]
  },
  {
   "cell_type": "code",
   "execution_count": 29,
   "metadata": {},
   "outputs": [],
   "source": [
    "# all token_addresses held by the escrow that also appear in the top 300 of CoinGecko\n",
    "erc20escrow_top_token_addresses = pd.merge(top_tokens_addresses, token_addresses_held_erc20, left_on=\"token_address\", right_on=\"Token Address\")\n",
    "erc20escrow_top_token_addresses['token_address'] = erc20escrow_top_token_addresses['token_address'].apply(lambda x: web3.to_checksum_address(x))\n"
   ]
  },
  {
   "cell_type": "code",
   "execution_count": 30,
   "metadata": {
    "collapsed": true,
    "jupyter": {
     "outputs_hidden": true
    }
   },
   "outputs": [
    {
     "data": {
      "text/html": [
       "<div>\n",
       "<style scoped>\n",
       "    .dataframe tbody tr th:only-of-type {\n",
       "        vertical-align: middle;\n",
       "    }\n",
       "\n",
       "    .dataframe tbody tr th {\n",
       "        vertical-align: top;\n",
       "    }\n",
       "\n",
       "    .dataframe thead th {\n",
       "        text-align: right;\n",
       "    }\n",
       "</style>\n",
       "<table border=\"1\" class=\"dataframe\">\n",
       "  <thead>\n",
       "    <tr style=\"text-align: right;\">\n",
       "      <th></th>\n",
       "      <th>coingecko_id</th>\n",
       "      <th>token_address</th>\n",
       "      <th>decimals</th>\n",
       "      <th>Token Address</th>\n",
       "    </tr>\n",
       "  </thead>\n",
       "  <tbody>\n",
       "    <tr>\n",
       "      <th>0</th>\n",
       "      <td>tether</td>\n",
       "      <td>0xdAC17F958D2ee523a2206206994597C13D831ec7</td>\n",
       "      <td>6</td>\n",
       "      <td>0xdac17f958d2ee523a2206206994597c13d831ec7</td>\n",
       "    </tr>\n",
       "    <tr>\n",
       "      <th>1</th>\n",
       "      <td>usd-coin</td>\n",
       "      <td>0xA0b86991c6218b36c1d19D4a2e9Eb0cE3606eB48</td>\n",
       "      <td>6</td>\n",
       "      <td>0xa0b86991c6218b36c1d19d4a2e9eb0ce3606eb48</td>\n",
       "    </tr>\n",
       "    <tr>\n",
       "      <th>2</th>\n",
       "      <td>shiba-inu</td>\n",
       "      <td>0x95aD61b0a150d79219dCF64E1E6Cc01f0B64C4cE</td>\n",
       "      <td>18</td>\n",
       "      <td>0x95ad61b0a150d79219dcf64e1e6cc01f0b64c4ce</td>\n",
       "    </tr>\n",
       "    <tr>\n",
       "      <th>3</th>\n",
       "      <td>binance-usd</td>\n",
       "      <td>0x4Fabb145d64652a948d72533023f6E7A623C7C53</td>\n",
       "      <td>18</td>\n",
       "      <td>0x4fabb145d64652a948d72533023f6e7a623c7c53</td>\n",
       "    </tr>\n",
       "    <tr>\n",
       "      <th>4</th>\n",
       "      <td>wrapped-bitcoin</td>\n",
       "      <td>0x2260FAC5E5542a773Aa44fBCfeDf7C193bc2C599</td>\n",
       "      <td>8</td>\n",
       "      <td>0x2260fac5e5542a773aa44fbcfedf7c193bc2c599</td>\n",
       "    </tr>\n",
       "    <tr>\n",
       "      <th>5</th>\n",
       "      <td>rocket-pool</td>\n",
       "      <td>0xD33526068D116cE69F19A9ee46F0bd304F21A51f</td>\n",
       "      <td>18</td>\n",
       "      <td>0xd33526068d116ce69f19a9ee46f0bd304f21a51f</td>\n",
       "    </tr>\n",
       "    <tr>\n",
       "      <th>6</th>\n",
       "      <td>woo-network</td>\n",
       "      <td>0x4691937a7508860F876c9c0a2a617E7d9E945D4B</td>\n",
       "      <td>18</td>\n",
       "      <td>0x4691937a7508860f876c9c0a2a617e7d9e945d4b</td>\n",
       "    </tr>\n",
       "    <tr>\n",
       "      <th>7</th>\n",
       "      <td>rocket-pool-eth</td>\n",
       "      <td>0xae78736Cd615f374D3085123A210448E74Fc6393</td>\n",
       "      <td>18</td>\n",
       "      <td>0xae78736cd615f374d3085123a210448e74fc6393</td>\n",
       "    </tr>\n",
       "    <tr>\n",
       "      <th>8</th>\n",
       "      <td>1inch</td>\n",
       "      <td>0x111111111117dC0aa78b770fA6A738034120C302</td>\n",
       "      <td>18</td>\n",
       "      <td>0x111111111117dc0aa78b770fa6a738034120c302</td>\n",
       "    </tr>\n",
       "    <tr>\n",
       "      <th>9</th>\n",
       "      <td>floki</td>\n",
       "      <td>0xcf0C122c6b73ff809C693DB761e7BaeBe62b6a2E</td>\n",
       "      <td>9</td>\n",
       "      <td>0xcf0c122c6b73ff809c693db761e7baebe62b6a2e</td>\n",
       "    </tr>\n",
       "    <tr>\n",
       "      <th>10</th>\n",
       "      <td>balancer</td>\n",
       "      <td>0xba100000625a3754423978a60c9317c58a424e3D</td>\n",
       "      <td>18</td>\n",
       "      <td>0xba100000625a3754423978a60c9317c58a424e3d</td>\n",
       "    </tr>\n",
       "    <tr>\n",
       "      <th>11</th>\n",
       "      <td>liquity-usd</td>\n",
       "      <td>0x5f98805A4E8be255a32880FDeC7F6728C6568bA0</td>\n",
       "      <td>18</td>\n",
       "      <td>0x5f98805a4e8be255a32880fdec7f6728c6568ba0</td>\n",
       "    </tr>\n",
       "    <tr>\n",
       "      <th>12</th>\n",
       "      <td>liquity</td>\n",
       "      <td>0x6DEA81C8171D0bA574754EF6F8b412F2Ed88c54D</td>\n",
       "      <td>18</td>\n",
       "      <td>0x6dea81c8171d0ba574754ef6f8b412f2ed88c54d</td>\n",
       "    </tr>\n",
       "    <tr>\n",
       "      <th>13</th>\n",
       "      <td>bolide</td>\n",
       "      <td>0x8A7aDc1B690E81c758F1BD0F72DFe27Ae6eC56A5</td>\n",
       "      <td>18</td>\n",
       "      <td>0x8a7adc1b690e81c758f1bd0f72dfe27ae6ec56a5</td>\n",
       "    </tr>\n",
       "    <tr>\n",
       "      <th>14</th>\n",
       "      <td>kyber-network-crystal</td>\n",
       "      <td>0xdeFA4e8a7bcBA345F687a2f1456F5Edd9CE97202</td>\n",
       "      <td>18</td>\n",
       "      <td>0xdefa4e8a7bcba345f687a2f1456f5edd9ce97202</td>\n",
       "    </tr>\n",
       "    <tr>\n",
       "      <th>15</th>\n",
       "      <td>perpetual-protocol</td>\n",
       "      <td>0xbC396689893D065F41bc2C6EcbeE5e0085233447</td>\n",
       "      <td>18</td>\n",
       "      <td>0xbc396689893d065f41bc2c6ecbee5e0085233447</td>\n",
       "    </tr>\n",
       "    <tr>\n",
       "      <th>16</th>\n",
       "      <td>mute</td>\n",
       "      <td>0xA49d7499271aE71cd8aB9Ac515e6694C755d400c</td>\n",
       "      <td>18</td>\n",
       "      <td>0xa49d7499271ae71cd8ab9ac515e6694c755d400c</td>\n",
       "    </tr>\n",
       "  </tbody>\n",
       "</table>\n",
       "</div>"
      ],
      "text/plain": [
       "             coingecko_id                               token_address  \\\n",
       "0                  tether  0xdAC17F958D2ee523a2206206994597C13D831ec7   \n",
       "1                usd-coin  0xA0b86991c6218b36c1d19D4a2e9Eb0cE3606eB48   \n",
       "2               shiba-inu  0x95aD61b0a150d79219dCF64E1E6Cc01f0B64C4cE   \n",
       "3             binance-usd  0x4Fabb145d64652a948d72533023f6E7A623C7C53   \n",
       "4         wrapped-bitcoin  0x2260FAC5E5542a773Aa44fBCfeDf7C193bc2C599   \n",
       "5             rocket-pool  0xD33526068D116cE69F19A9ee46F0bd304F21A51f   \n",
       "6             woo-network  0x4691937a7508860F876c9c0a2a617E7d9E945D4B   \n",
       "7         rocket-pool-eth  0xae78736Cd615f374D3085123A210448E74Fc6393   \n",
       "8                   1inch  0x111111111117dC0aa78b770fA6A738034120C302   \n",
       "9                   floki  0xcf0C122c6b73ff809C693DB761e7BaeBe62b6a2E   \n",
       "10               balancer  0xba100000625a3754423978a60c9317c58a424e3D   \n",
       "11            liquity-usd  0x5f98805A4E8be255a32880FDeC7F6728C6568bA0   \n",
       "12                liquity  0x6DEA81C8171D0bA574754EF6F8b412F2Ed88c54D   \n",
       "13                 bolide  0x8A7aDc1B690E81c758F1BD0F72DFe27Ae6eC56A5   \n",
       "14  kyber-network-crystal  0xdeFA4e8a7bcBA345F687a2f1456F5Edd9CE97202   \n",
       "15     perpetual-protocol  0xbC396689893D065F41bc2C6EcbeE5e0085233447   \n",
       "16                   mute  0xA49d7499271aE71cd8aB9Ac515e6694C755d400c   \n",
       "\n",
       "    decimals                               Token Address  \n",
       "0          6  0xdac17f958d2ee523a2206206994597c13d831ec7  \n",
       "1          6  0xa0b86991c6218b36c1d19d4a2e9eb0ce3606eb48  \n",
       "2         18  0x95ad61b0a150d79219dcf64e1e6cc01f0b64c4ce  \n",
       "3         18  0x4fabb145d64652a948d72533023f6e7a623c7c53  \n",
       "4          8  0x2260fac5e5542a773aa44fbcfedf7c193bc2c599  \n",
       "5         18  0xd33526068d116ce69f19a9ee46f0bd304f21a51f  \n",
       "6         18  0x4691937a7508860f876c9c0a2a617e7d9e945d4b  \n",
       "7         18  0xae78736cd615f374d3085123a210448e74fc6393  \n",
       "8         18  0x111111111117dc0aa78b770fa6a738034120c302  \n",
       "9          9  0xcf0c122c6b73ff809c693db761e7baebe62b6a2e  \n",
       "10        18  0xba100000625a3754423978a60c9317c58a424e3d  \n",
       "11        18  0x5f98805a4e8be255a32880fdec7f6728c6568ba0  \n",
       "12        18  0x6dea81c8171d0ba574754ef6f8b412f2ed88c54d  \n",
       "13        18  0x8a7adc1b690e81c758f1bd0f72dfe27ae6ec56a5  \n",
       "14        18  0xdefa4e8a7bcba345f687a2f1456f5edd9ce97202  \n",
       "15        18  0xbc396689893d065f41bc2c6ecbee5e0085233447  \n",
       "16        18  0xa49d7499271ae71cd8ab9ac515e6694c755d400c  "
      ]
     },
     "execution_count": 30,
     "metadata": {},
     "output_type": "execute_result"
    }
   ],
   "source": [
    "erc20escrow_top_token_addresses"
   ]
  },
  {
   "cell_type": "code",
   "execution_count": 31,
   "metadata": {
    "collapsed": true,
    "jupyter": {
     "outputs_hidden": true
    }
   },
   "outputs": [
    {
     "name": "stdout",
     "output_type": "stream",
     "text": [
      "Retrieving token balances for 2023-02-14 - Block Number:16630422 \n",
      "Retrieving token balances for 2023-02-15 - Block Number:16637574 \n",
      "Retrieving token balances for 2023-02-16 - Block Number:16644732 \n",
      "Retrieving token balances for 2023-02-17 - Block Number:16651829 \n",
      "Retrieving token balances for 2023-02-18 - Block Number:16658938 \n",
      "Retrieving token balances for 2023-02-19 - Block Number:16666055 \n",
      "Retrieving token balances for 2023-02-20 - Block Number:16673184 \n",
      "Retrieving token balances for 2023-02-21 - Block Number:16680299 \n",
      "Retrieving token balances for 2023-02-22 - Block Number:16687395 \n",
      "Retrieving token balances for 2023-02-23 - Block Number:16694513 \n",
      "Retrieving token balances for 2023-02-24 - Block Number:16701598 \n",
      "Retrieving token balances for 2023-02-25 - Block Number:16708710 \n",
      "Retrieving token balances for 2023-02-26 - Block Number:16715829 \n",
      "Retrieving token balances for 2023-02-27 - Block Number:16722962 \n",
      "Retrieving token balances for 2023-02-28 - Block Number:16730071 \n",
      "Retrieving token balances for 2023-03-01 - Block Number:16737189 \n",
      "Retrieving token balances for 2023-03-02 - Block Number:16744288 \n",
      "Retrieving token balances for 2023-03-03 - Block Number:16751387 \n",
      "Retrieving token balances for 2023-03-04 - Block Number:16758495 \n",
      "Retrieving token balances for 2023-03-05 - Block Number:16765615 \n",
      "Retrieving token balances for 2023-03-06 - Block Number:16772727 \n",
      "Retrieving token balances for 2023-03-07 - Block Number:16779843 \n",
      "Retrieving token balances for 2023-03-08 - Block Number:16786948 \n",
      "Retrieving token balances for 2023-03-09 - Block Number:16794061 \n",
      "Retrieving token balances for 2023-03-10 - Block Number:16801143 \n",
      "Retrieving token balances for 2023-03-11 - Block Number:16808257 \n",
      "Retrieving token balances for 2023-03-12 - Block Number:16815366 \n",
      "Retrieving token balances for 2023-03-13 - Block Number:16822491 \n",
      "Retrieving token balances for 2023-03-14 - Block Number:16829609 \n",
      "Retrieving token balances for 2023-03-15 - Block Number:16836710 \n",
      "Retrieving token balances for 2023-03-16 - Block Number:16843829 \n",
      "Retrieving token balances for 2023-03-17 - Block Number:16850945 \n",
      "Retrieving token balances for 2023-03-18 - Block Number:16858066 \n",
      "Retrieving token balances for 2023-03-19 - Block Number:16865180 \n",
      "Retrieving token balances for 2023-03-20 - Block Number:16872312 \n",
      "Retrieving token balances for 2023-03-21 - Block Number:16879427 \n",
      "Retrieving token balances for 2023-03-22 - Block Number:16886552 \n",
      "Retrieving token balances for 2023-03-23 - Block Number:16893656 \n",
      "Retrieving token balances for 2023-03-24 - Block Number:16900777 \n",
      "Retrieving token balances for 2023-03-25 - Block Number:16907899 \n",
      "Retrieving token balances for 2023-03-26 - Block Number:16915021 \n",
      "Retrieving token balances for 2023-03-27 - Block Number:16922136 \n",
      "Retrieving token balances for 2023-03-28 - Block Number:16929247 \n",
      "Retrieving token balances for 2023-03-29 - Block Number:16936360 \n",
      "Retrieving token balances for 2023-03-30 - Block Number:16943478 \n",
      "Retrieving token balances for 2023-04-01 - Block Number:16957716 \n",
      "Retrieving token balances for 2023-04-02 - Block Number:16964815 \n",
      "Retrieving token balances for 2023-04-03 - Block Number:16971893 \n",
      "Retrieving token balances for 2023-04-04 - Block Number:16978914 \n",
      "Retrieving token balances for 2023-04-05 - Block Number:16985956 \n",
      "Retrieving token balances for 2023-04-06 - Block Number:16992951 \n",
      "Retrieving token balances for 2023-04-07 - Block Number:17000009 \n",
      "Retrieving token balances for 2023-04-08 - Block Number:17007071 \n",
      "Retrieving token balances for 2023-04-09 - Block Number:17014116 \n",
      "Retrieving token balances for 2023-04-10 - Block Number:17021180 \n",
      "Retrieving token balances for 2023-04-11 - Block Number:17028241 \n",
      "Retrieving token balances for 2023-04-12 - Block Number:17035257 \n",
      "Retrieving token balances for 2023-04-13 - Block Number:17041765 \n",
      "Retrieving token balances for 2023-04-14 - Block Number:17048771 \n",
      "Retrieving token balances for 2023-04-15 - Block Number:17055791 \n",
      "Retrieving token balances for 2023-04-16 - Block Number:17062833 \n",
      "Retrieving token balances for 2023-04-17 - Block Number:17069898 \n",
      "Retrieving token balances for 2023-04-18 - Block Number:17076966 \n",
      "Retrieving token balances for 2023-04-19 - Block Number:17084047 \n",
      "Retrieving token balances for 2023-04-20 - Block Number:17091074 \n",
      "Retrieving token balances for 2023-04-21 - Block Number:17098172 \n",
      "Retrieving token balances for 2023-04-22 - Block Number:17105309 \n",
      "Retrieving token balances for 2023-04-23 - Block Number:17112440 \n",
      "Retrieving token balances for 2023-04-24 - Block Number:17119571 \n",
      "Retrieving token balances for 2023-04-25 - Block Number:17126694 \n",
      "Retrieving token balances for 2023-04-26 - Block Number:17133819 \n",
      "Retrieving token balances for 2023-04-27 - Block Number:17140929 \n",
      "Retrieving token balances for 2023-04-28 - Block Number:17148050 \n",
      "Retrieving token balances for 2023-04-29 - Block Number:17155163 \n",
      "Retrieving token balances for 2023-04-30 - Block Number:17162286 \n"
     ]
    }
   ],
   "source": [
    "#date of the contract deployment\n",
    "start_date = '2023-02-14'\n",
    "# Get the index position of the start date in the DataFrame\n",
    "start_index = block_numbers_df[block_numbers_df['Date'] == start_date].index[0]\n",
    "# Slice the DataFrame from the start index onwards\n",
    "block_numbers_slice = block_numbers_df.iloc[start_index:]\n",
    "\n",
    "#define function to retrieve account balance\n",
    "def get_token_balance(token_holding_address_checksum, token_address, contract, block_number):\n",
    "    try:\n",
    "        token_balance = contract.functions.balanceOf(token_holding_address_checksum).call(block_identifier=block_number)\n",
    "        has_error = False\n",
    "    except Exception as e:\n",
    "        token_balance = 0\n",
    "        has_error = True\n",
    "        print(f\"Error getting balance for {token_address}: {e}\")\n",
    "    return token_balance, has_error\n",
    "\n",
    "# Define the ERC20 contract ABI\n",
    "abi = [\n",
    "    {\n",
    "        'inputs': [],\n",
    "        'name': 'decimals',\n",
    "        'outputs': [{'internalType': 'uint8', 'name': '', 'type': 'uint8'}],\n",
    "        'stateMutability': 'view',\n",
    "        'type': 'function'\n",
    "    },\n",
    "    {\n",
    "        'inputs': [{'internalType': 'address', 'name': '', 'type': 'address'}],\n",
    "        'name': 'balanceOf',\n",
    "        'outputs': [{'internalType': 'uint256', 'name': '', 'type': 'uint256'}],\n",
    "        'stateMutability': 'view',\n",
    "        'type': 'function'\n",
    "    }\n",
    "]\n",
    "\n",
    "# Define the token addresses DataFrame\n",
    "token_addresses_df = erc20escrow_top_token_addresses\n",
    "\n",
    "token_holding_address = \"0x57891966931Eb4Bb6FB81430E6cE0A03AAbDe063\"\n",
    "token_holding_address_checksum = web3.to_checksum_address(token_holding_address)\n",
    "\n",
    "# Create a contract instance for each token address\n",
    "contracts = {}\n",
    "for _, row in token_addresses_df.iterrows():\n",
    "    token_address = row['Token Address']\n",
    "    token_address_checksum = web3.to_checksum_address(token_address)\n",
    "    contract = web3.eth.contract(address=token_address_checksum, abi=abi)\n",
    "    contracts[token_address] = contract\n",
    "\n",
    "# Retrieve the token balances for each token address and block number, and store the results in a DataFrame\n",
    "balances = []\n",
    "for i, row in block_numbers_slice.iterrows():\n",
    "    print(f\"Retrieving token balances for {row['Date']} - Block Number:{row['Block Number']} \")\n",
    "    for _, row2 in token_addresses_df.iterrows(): \n",
    "        token_decimals = row2['decimals']\n",
    "        token_address = row2['Token Address']\n",
    "        block_number = row['Block Number']\n",
    "        contract = contracts[token_address]\n",
    "        token_balance, has_error = get_token_balance(token_holding_address_checksum, token_address, contract, block_number)\n",
    "        #print(f\"On day {row['Date']} token address {token_address} had a balance of {token_balance} \")\n",
    "        #print(f\"Token balance for address {token_address} at Block-Nr. {row['Block Number']} is: {token_balance}\")\n",
    "        time.sleep(0.5)\n",
    "        balances.append({\n",
    "            'date': row['Date'],\n",
    "            'block_number': block_number,\n",
    "            'token_address': token_address,\n",
    "            'token_name': row2['coingecko_id'],\n",
    "            'token_decimals': row2['decimals'],\n",
    "            'balance': token_balance / 10**token_decimals,\n",
    "            'has_error': has_error\n",
    "        })\n",
    "\n",
    "erc20_escrow_token_balances_per_day = pd.DataFrame(balances)\n"
   ]
  },
  {
   "cell_type": "code",
   "execution_count": 35,
   "metadata": {},
   "outputs": [],
   "source": [
    "erc20_escrow_token_balances_per_day.to_csv('Erc20Escrow/erc20_escrow_token_balances_per_day.csv', index=False)"
   ]
  },
  {
   "cell_type": "code",
   "execution_count": null,
   "metadata": {},
   "outputs": [],
   "source": []
  },
  {
   "cell_type": "markdown",
   "metadata": {},
   "source": [
    "\n",
    "<h1 style=\"color: blue; font-size: 36px; font-family: Arial;\">  ZkSync ETH Escrow</h1>\n"
   ]
  },
  {
   "cell_type": "code",
   "execution_count": null,
   "metadata": {},
   "outputs": [],
   "source": [
    "#contract-address: 0x32400084C286CF3E17e7B677ea9583e60a000324\n",
    "#created at 13-02-2023 #at block 16621828\n"
   ]
  },
  {
   "cell_type": "code",
   "execution_count": 22,
   "metadata": {
    "collapsed": true,
    "jupyter": {
     "outputs_hidden": true
    }
   },
   "outputs": [
    {
     "name": "stdout",
     "output_type": "stream",
     "text": [
      "Retrieving balances for 2023-02-13 - Block Number:16623274 - balance:0.0  \n",
      "Retrieving balances for 2023-02-14 - Block Number:16630422 - balance:0.0  \n",
      "Retrieving balances for 2023-02-15 - Block Number:16637574 - balance:0.33  \n",
      "Retrieving balances for 2023-02-16 - Block Number:16644732 - balance:3.63580942575  \n",
      "Retrieving balances for 2023-02-17 - Block Number:16651829 - balance:3.91836660125  \n",
      "Retrieving balances for 2023-02-18 - Block Number:16658938 - balance:3.91836660125  \n",
      "Retrieving balances for 2023-02-19 - Block Number:16666055 - balance:3.91836660125  \n",
      "Retrieving balances for 2023-02-20 - Block Number:16673184 - balance:4.41836660125  \n",
      "Retrieving balances for 2023-02-21 - Block Number:16680299 - balance:4.65358364025  \n",
      "Retrieving balances for 2023-02-22 - Block Number:16687395 - balance:4.99242081975  \n",
      "Retrieving balances for 2023-02-23 - Block Number:16694513 - balance:5.035594633524039  \n",
      "Retrieving balances for 2023-02-24 - Block Number:16701598 - balance:10.535594633524038  \n",
      "Retrieving balances for 2023-02-25 - Block Number:16708710 - balance:10.606673281024039  \n",
      "Retrieving balances for 2023-02-26 - Block Number:16715829 - balance:10.813499804024039  \n",
      "Retrieving balances for 2023-02-27 - Block Number:16722962 - balance:11.823499804024038  \n",
      "Retrieving balances for 2023-02-28 - Block Number:16730071 - balance:11.795315609024039  \n",
      "Retrieving balances for 2023-03-01 - Block Number:16737189 - balance:26.49531560902404  \n",
      "Retrieving balances for 2023-03-02 - Block Number:16744288 - balance:26.36062517977404  \n",
      "Retrieving balances for 2023-03-03 - Block Number:16751387 - balance:26.19327496952404  \n",
      "Retrieving balances for 2023-03-04 - Block Number:16758495 - balance:26.05978602752404  \n",
      "Retrieving balances for 2023-03-05 - Block Number:16765615 - balance:25.94310863727404  \n",
      "Retrieving balances for 2023-03-06 - Block Number:16772727 - balance:26.126222773754638  \n",
      "Retrieving balances for 2023-03-07 - Block Number:16779843 - balance:26.196222773754638  \n",
      "Retrieving balances for 2023-03-08 - Block Number:16786948 - balance:26.25080778925464  \n",
      "Retrieving balances for 2023-03-09 - Block Number:16794061 - balance:26.73666778925464  \n",
      "Retrieving balances for 2023-03-10 - Block Number:16801143 - balance:26.661877209254637  \n",
      "Retrieving balances for 2023-03-11 - Block Number:16808257 - balance:27.161877209254637  \n",
      "Retrieving balances for 2023-03-12 - Block Number:16815366 - balance:27.961877209254638  \n",
      "Retrieving balances for 2023-03-13 - Block Number:16822491 - balance:27.98430092425464  \n",
      "Retrieving balances for 2023-03-14 - Block Number:16829609 - balance:28.334300924254638  \n",
      "Retrieving balances for 2023-03-15 - Block Number:16836710 - balance:28.334300924254638  \n",
      "Retrieving balances for 2023-03-16 - Block Number:16843829 - balance:29.40725537637708  \n",
      "Retrieving balances for 2023-03-17 - Block Number:16850945 - balance:39.53190156703022  \n",
      "Retrieving balances for 2023-03-18 - Block Number:16858066 - balance:39.68300980880022  \n",
      "Retrieving balances for 2023-03-19 - Block Number:16865180 - balance:39.97928150805022  \n",
      "Retrieving balances for 2023-03-20 - Block Number:16872312 - balance:40.48261415605022  \n",
      "Retrieving balances for 2023-03-21 - Block Number:16879427 - balance:40.31293905435082  \n",
      "Retrieving balances for 2023-03-22 - Block Number:16886552 - balance:40.90643810360082  \n",
      "Retrieving balances for 2023-03-23 - Block Number:16893656 - balance:94.59012520239709  \n",
      "Retrieving balances for 2023-03-24 - Block Number:16900777 - balance:3745.4825871236458  \n",
      "Retrieving balances for 2023-03-25 - Block Number:16907899 - balance:10368.391571228734  \n",
      "Retrieving balances for 2023-03-26 - Block Number:16915021 - balance:14713.374400604813  \n",
      "Retrieving balances for 2023-03-27 - Block Number:16922136 - balance:17983.573232871368  \n",
      "Retrieving balances for 2023-03-28 - Block Number:16929247 - balance:21981.86950971162  \n",
      "Retrieving balances for 2023-03-29 - Block Number:16936360 - balance:25467.46478058803  \n",
      "Retrieving balances for 2023-03-30 - Block Number:16943478 - balance:26329.515168927606  \n",
      "Retrieving balances for 2023-04-01 - Block Number:16957716 - balance:34519.67505862695  \n",
      "Retrieving balances for 2023-04-02 - Block Number:16964815 - balance:38770.101208448934  \n",
      "Retrieving balances for 2023-04-03 - Block Number:16971893 - balance:40074.30849375502  \n",
      "Retrieving balances for 2023-04-04 - Block Number:16978914 - balance:42237.28563108235  \n",
      "Retrieving balances for 2023-04-05 - Block Number:16985956 - balance:49425.63406009985  \n",
      "Retrieving balances for 2023-04-06 - Block Number:16992951 - balance:52758.504802647396  \n",
      "Retrieving balances for 2023-04-07 - Block Number:17000009 - balance:54915.36739570211  \n",
      "Retrieving balances for 2023-04-08 - Block Number:17007071 - balance:59486.23370130394  \n",
      "Retrieving balances for 2023-04-09 - Block Number:17014116 - balance:62468.304887104365  \n",
      "Retrieving balances for 2023-04-10 - Block Number:17021180 - balance:66903.11661732773  \n",
      "Retrieving balances for 2023-04-11 - Block Number:17028241 - balance:67881.48065139535  \n",
      "Retrieving balances for 2023-04-12 - Block Number:17035257 - balance:71054.15414952801  \n",
      "Retrieving balances for 2023-04-13 - Block Number:17041765 - balance:70835.30278936164  \n",
      "Retrieving balances for 2023-04-14 - Block Number:17048771 - balance:70347.42097955591  \n",
      "Retrieving balances for 2023-04-15 - Block Number:17055791 - balance:69126.69983215383  \n",
      "Retrieving balances for 2023-04-16 - Block Number:17062833 - balance:70015.6105377524  \n",
      "Retrieving balances for 2023-04-17 - Block Number:17069898 - balance:68390.02966921753  \n",
      "Retrieving balances for 2023-04-18 - Block Number:17076966 - balance:67219.46642953463  \n",
      "Retrieving balances for 2023-04-19 - Block Number:17084047 - balance:71667.93572856265  \n",
      "Retrieving balances for 2023-04-20 - Block Number:17091074 - balance:71622.15431466266  \n",
      "Retrieving balances for 2023-04-21 - Block Number:17098172 - balance:71376.9722559065  \n",
      "Retrieving balances for 2023-04-22 - Block Number:17105309 - balance:72515.03161671816  \n",
      "Retrieving balances for 2023-04-23 - Block Number:17112440 - balance:73381.85988445657  \n",
      "Retrieving balances for 2023-04-24 - Block Number:17119571 - balance:75411.42902124795  \n",
      "Retrieving balances for 2023-04-25 - Block Number:17126694 - balance:76919.77124578963  \n",
      "Retrieving balances for 2023-04-26 - Block Number:17133819 - balance:78776.4377798527  \n",
      "Retrieving balances for 2023-04-27 - Block Number:17140929 - balance:79073.12714122755  \n",
      "Retrieving balances for 2023-04-28 - Block Number:17148050 - balance:80331.02294828324  \n",
      "Retrieving balances for 2023-04-29 - Block Number:17155163 - balance:81007.70113596582  \n",
      "Retrieving balances for 2023-04-30 - Block Number:17162286 - balance:82660.13361171645  \n"
     ]
    }
   ],
   "source": [
    "#date of the contract deployment\n",
    "start_date = '2023-02-13'\n",
    "\n",
    "# Get the index position of the start date in the DataFrame\n",
    "start_index = block_numbers_df[block_numbers_df['Date'] == start_date].index[0]\n",
    "\n",
    "# Slice the DataFrame from the start index onwards\n",
    "block_numbers_slice = block_numbers_df.iloc[start_index:]\n",
    "\n",
    "# New function to retrieve Ether balance of a smart contract at a specific block number\n",
    "def get_contract_eth_balance(escrow_checksum, block_number):\n",
    "    return web3.eth.get_balance(escrow_checksum, block_identifier=block_number)\n",
    "\n",
    "\n",
    "escrow = \"0x32400084C286CF3E17e7B677ea9583e60a000324\"\n",
    "escrow_checksum = web3.to_checksum_address(escrow)\n",
    "\n",
    "# Retrieve the token and Ether balances for each token address and block number, and store the results in a DataFrame\n",
    "token_address = \"ether\"\n",
    "token_name = \"ethereum\"\n",
    "token_decimals = 18\n",
    "\n",
    "balances = []\n",
    "for i, row in block_numbers_slice.iterrows():\n",
    "\n",
    "    block_number = row['Block Number']\n",
    "    eth_balance = get_contract_eth_balance(escrow_checksum, block_number) / 10**token_decimals # Convert Wei to Ether\n",
    "    print(f\"Retrieving balances for {row['Date']} - Block Number:{row['Block Number']} - balance:{eth_balance}  \")    \n",
    "    balances.append({\n",
    "            'date': row['Date'],\n",
    "            'block_number': block_number,\n",
    "            'token_address': token_address,\n",
    "            'token_name': token_name,\n",
    "            'token_decimals': token_decimals,\n",
    "            'token_balance': eth_balance,\n",
    "        })\n",
    "    time.sleep(0.5)\n",
    "        \n",
    "eth_escrow_balances_per_day = pd.DataFrame(balances)\n"
   ]
  },
  {
   "cell_type": "code",
   "execution_count": null,
   "metadata": {},
   "outputs": [],
   "source": []
  },
  {
   "cell_type": "code",
   "execution_count": 24,
   "metadata": {},
   "outputs": [],
   "source": [
    "eth_escrow_balances_per_day.to_csv('EthEscrow/eth_escrow_balances_per_day.csv', index=False)"
   ]
  },
  {
   "cell_type": "markdown",
   "metadata": {},
   "source": [
    "<h1 style=\"color: blue; font-size: 36px; font-family: Arial;\"> Combining the escrows</h1>\n"
   ]
  },
  {
   "cell_type": "code",
   "execution_count": 20,
   "metadata": {},
   "outputs": [],
   "source": [
    "eth_escrow_balances_per_day = pd.read_csv('EthEscrow/eth_escrow_balances_per_day.csv')\n",
    "\n",
    "eth_escrow_balances_per_day = eth_escrow_balances_per_day.rename(columns={'token_balance': 'balance'})\n",
    "eth_escrow_balances_per_day['escrow_address'] = '0x32400084C286CF3E17e7B677ea9583e60a000324'\n",
    "eth_escrow_balances_per_day['escrow_address_rdbl'] = 'ZkSyncEthEscrow'"
   ]
  },
  {
   "cell_type": "code",
   "execution_count": 53,
   "metadata": {},
   "outputs": [],
   "source": [
    "erc20_escrow_balances_per_day = pd.read_csv('Erc20Escrow/erc20_escrow_token_balances_per_day.csv')\n",
    "\n",
    "erc20_escrow_balances_per_day = erc20_escrow_balances_per_day.rename(columns={'token_balance': 'balance'})\n",
    "erc20_escrow_balances_per_day['escrow_address'] = '0x57891966931Eb4Bb6FB81430E6cE0A03AAbDe063'\n",
    "erc20_escrow_balances_per_day['escrow_address_rdbl'] = 'ZkSyncErc20Escrow'\n",
    "erc20_escrow_balances_per_day = erc20_escrow_balances_per_day.drop(columns=['has_error'])\n"
   ]
  },
  {
   "cell_type": "code",
   "execution_count": 56,
   "metadata": {},
   "outputs": [],
   "source": [
    "# create a list of the dataframes\n",
    "dfs = [erc20_escrow_balances_per_day,\n",
    "       eth_escrow_balances_per_day\n",
    "      ]\n",
    "\n",
    "# concatenate the dataframes along the rows\n",
    "zksync_escrow_balances = pd.concat(dfs, ignore_index=True)\n",
    "zksync_escrow_balances = zksync_escrow_balances[zksync_escrow_balances['date'] < '2023-04-30']"
   ]
  },
  {
   "cell_type": "code",
   "execution_count": 4,
   "metadata": {},
   "outputs": [],
   "source": [
    "zksync_escrow_balances['token_address'] = zksync_escrow_balances['token_address'].apply(lambda x: web3.to_checksum_address(x) if x != 'ether' else x)\n",
    "\n",
    "price_data = pd.read_csv('../../utils/price-data/price_data.csv') \n",
    "price_data['token_address'] = price_data['token_address'].apply(lambda x: web3.to_checksum_address(x) if x != 'ether' else x)\n"
   ]
  },
  {
   "cell_type": "code",
   "execution_count": 5,
   "metadata": {},
   "outputs": [],
   "source": [
    "zksync_escrow_balances['date'] = pd.to_datetime(zksync_escrow_balances['date'])\n",
    "price_data['timestamp'] = pd.to_datetime(price_data['timestamp'])\n",
    "price_data['token_address'] = price_data['token_address'].astype(str)\n",
    "zksync_escrow_balances['token_address'] = zksync_escrow_balances['token_address'].astype(str)\n",
    "\n"
   ]
  },
  {
   "cell_type": "code",
   "execution_count": 6,
   "metadata": {},
   "outputs": [
    {
     "data": {
      "text/plain": [
       "(1333, 8)"
      ]
     },
     "execution_count": 6,
     "metadata": {},
     "output_type": "execute_result"
    }
   ],
   "source": [
    "zksync_escrow_balances.shape"
   ]
  },
  {
   "cell_type": "code",
   "execution_count": 12,
   "metadata": {},
   "outputs": [],
   "source": [
    "zksync_escrows_final = zksync_escrow_balances.merge(price_data, left_on=['token_address', 'date'], right_on=['token_address', 'timestamp'])"
   ]
  },
  {
   "cell_type": "code",
   "execution_count": 65,
   "metadata": {},
   "outputs": [
    {
     "data": {
      "text/plain": [
       "(1333, 10)"
      ]
     },
     "execution_count": 65,
     "metadata": {},
     "output_type": "execute_result"
    }
   ],
   "source": [
    "zksync_escrows_final.shape"
   ]
  },
  {
   "cell_type": "code",
   "execution_count": 13,
   "metadata": {},
   "outputs": [],
   "source": [
    "zksync_escrows_final['balance_usd'] = zksync_escrows_final['balance'] * zksync_escrows_final['price']"
   ]
  },
  {
   "cell_type": "code",
   "execution_count": 4,
   "metadata": {},
   "outputs": [],
   "source": [
    "#can be disregarded and will be overwritten with the correct value in eth in the analysis part\n",
    "\n",
    "ksync_escrows_final['token_amount'] = zksync_escrows_final['balance'] * 10 ** zksync_escrows_final['token_decimals']\n",
    "\n",
    "def wei_to_eth(wei_value):\n",
    "    # 1 Ether (ETH) is equivalent to 10^18 Wei\n",
    "    eth_value = wei_value * 1e-18\n",
    "    return eth_value\n",
    "\n",
    "# Apply the conversion function and add a new column\n",
    "zksync_escrows_final[\"balance_eth\"] = zksync_escrows_final[\"token_amount\"].apply(wei_to_eth)"
   ]
  },
  {
   "cell_type": "markdown",
   "metadata": {},
   "source": [
    "### save final df"
   ]
  },
  {
   "cell_type": "code",
   "execution_count": null,
   "metadata": {},
   "outputs": [],
   "source": [
    "#zksync_escrows_final.to_csv('../../data/zksync_escrows_final.csv', index=False)"
   ]
  }
 ],
 "metadata": {
  "kernelspec": {
   "display_name": "Python 3",
   "language": "python",
   "name": "python3"
  },
  "language_info": {
   "codemirror_mode": {
    "name": "ipython",
    "version": 3
   },
   "file_extension": ".py",
   "mimetype": "text/x-python",
   "name": "python",
   "nbconvert_exporter": "python",
   "pygments_lexer": "ipython3",
   "version": "3.8.5"
  }
 },
 "nbformat": 4,
 "nbformat_minor": 4
}
