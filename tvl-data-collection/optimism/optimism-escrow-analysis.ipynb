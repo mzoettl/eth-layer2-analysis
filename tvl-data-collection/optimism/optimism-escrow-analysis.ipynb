{
 "cells": [
  {
   "cell_type": "code",
   "execution_count": 52,
   "metadata": {
    "collapsed": true,
    "jupyter": {
     "outputs_hidden": true
    }
   },
   "outputs": [
    {
     "name": "stdout",
     "output_type": "stream",
     "text": [
      "Collecting web3\n",
      "  Downloading web3-6.9.0-py3-none-any.whl (1.6 MB)\n",
      "\u001b[K     |████████████████████████████████| 1.6 MB 18.0 MB/s eta 0:00:01\n",
      "\u001b[?25hCollecting lru-dict>=1.1.6\n",
      "  Using cached lru_dict-1.2.0-cp38-cp38-manylinux_2_5_x86_64.manylinux1_x86_64.manylinux_2_17_x86_64.manylinux2014_x86_64.whl (29 kB)\n",
      "Collecting eth-abi>=4.0.0\n",
      "  Using cached eth_abi-4.1.0-py3-none-any.whl (27 kB)\n",
      "Collecting hexbytes>=0.1.0\n",
      "  Using cached hexbytes-0.3.1-py3-none-any.whl (5.9 kB)\n",
      "Collecting eth-typing>=3.0.0\n",
      "  Using cached eth_typing-3.4.0-py3-none-any.whl (6.0 kB)\n",
      "Requirement already satisfied: requests>=2.16.0 in /opt/conda/lib/python3.8/site-packages (from web3) (2.24.0)\n",
      "Collecting eth-account>=0.8.0\n",
      "  Using cached eth_account-0.9.0-py3-none-any.whl (101 kB)\n",
      "Collecting typing-extensions>=4.0.1\n",
      "  Using cached typing_extensions-4.7.1-py3-none-any.whl (33 kB)\n",
      "Collecting aiohttp>=3.7.4.post0\n",
      "  Using cached aiohttp-3.8.5-cp38-cp38-manylinux_2_17_x86_64.manylinux2014_x86_64.whl (1.1 MB)\n",
      "Collecting websockets>=10.0.0\n",
      "  Using cached websockets-11.0.3-cp38-cp38-manylinux_2_5_x86_64.manylinux1_x86_64.manylinux_2_17_x86_64.manylinux2014_x86_64.whl (130 kB)\n",
      "Collecting eth-hash[pycryptodome]>=0.5.1\n",
      "  Using cached eth_hash-0.5.2-py3-none-any.whl (8.6 kB)\n",
      "Collecting jsonschema>=4.0.0\n",
      "  Using cached jsonschema-4.19.0-py3-none-any.whl (83 kB)\n",
      "Processing /home/jovyan/.cache/pip/wheels/96/b6/57/4c5ff87470c89ceb3ae21e06d4c4008934ad76eff2d579ba95/pyunormalize-15.0.0-py3-none-any.whl\n",
      "Collecting eth-utils>=2.1.0\n",
      "  Using cached eth_utils-2.2.0-py3-none-any.whl (23 kB)\n",
      "Collecting protobuf>=4.21.6\n",
      "  Using cached protobuf-4.24.1-cp37-abi3-manylinux2014_x86_64.whl (311 kB)\n",
      "Processing /home/jovyan/.cache/pip/wheels/6d/4a/73/c75aa7ffc64d339df63d038efe209bc9cf177e5b98cbfa611f/parsimonious-0.9.0-py3-none-any.whl\n",
      "Requirement already satisfied: certifi>=2017.4.17 in /opt/conda/lib/python3.8/site-packages (from requests>=2.16.0->web3) (2020.6.20)\n",
      "Requirement already satisfied: urllib3!=1.25.0,!=1.25.1,<1.26,>=1.21.1 in /opt/conda/lib/python3.8/site-packages (from requests>=2.16.0->web3) (1.25.10)\n",
      "Requirement already satisfied: chardet<4,>=3.0.2 in /opt/conda/lib/python3.8/site-packages (from requests>=2.16.0->web3) (3.0.4)\n",
      "Requirement already satisfied: idna<3,>=2.5 in /opt/conda/lib/python3.8/site-packages (from requests>=2.16.0->web3) (2.10)\n",
      "Collecting rlp>=1.0.0\n",
      "  Using cached rlp-3.0.0-py2.py3-none-any.whl (20 kB)\n",
      "Collecting bitarray>=2.4.0\n",
      "  Using cached bitarray-2.8.1-cp38-cp38-manylinux_2_17_x86_64.manylinux2014_x86_64.whl (285 kB)\n",
      "Collecting eth-keys>=0.4.0\n",
      "  Using cached eth_keys-0.4.0-py3-none-any.whl (21 kB)\n",
      "Collecting eth-keyfile>=0.6.0\n",
      "  Using cached eth_keyfile-0.6.1-py3-none-any.whl (6.5 kB)\n",
      "Collecting eth-rlp>=0.3.0\n",
      "  Using cached eth_rlp-0.3.0-py3-none-any.whl (5.0 kB)\n",
      "Collecting yarl<2.0,>=1.0\n",
      "  Using cached yarl-1.9.2-cp38-cp38-manylinux_2_17_x86_64.manylinux2014_x86_64.whl (266 kB)\n",
      "Collecting frozenlist>=1.1.1\n",
      "  Using cached frozenlist-1.4.0-cp38-cp38-manylinux_2_5_x86_64.manylinux1_x86_64.manylinux_2_17_x86_64.manylinux2014_x86_64.whl (220 kB)\n",
      "Collecting multidict<7.0,>=4.5\n",
      "  Using cached multidict-6.0.4-cp38-cp38-manylinux_2_17_x86_64.manylinux2014_x86_64.whl (121 kB)\n",
      "Requirement already satisfied: attrs>=17.3.0 in /opt/conda/lib/python3.8/site-packages (from aiohttp>=3.7.4.post0->web3) (20.2.0)\n",
      "Collecting aiosignal>=1.1.2\n",
      "  Using cached aiosignal-1.3.1-py3-none-any.whl (7.6 kB)\n",
      "Collecting async-timeout<5.0,>=4.0.0a3\n",
      "  Using cached async_timeout-4.0.3-py3-none-any.whl (5.7 kB)\n",
      "Collecting charset-normalizer<4.0,>=2.0\n",
      "  Using cached charset_normalizer-3.2.0-cp38-cp38-manylinux_2_17_x86_64.manylinux2014_x86_64.whl (199 kB)\n",
      "Collecting pycryptodome<4,>=3.6.6; extra == \"pycryptodome\"\n",
      "  Using cached pycryptodome-3.18.0-cp35-abi3-manylinux_2_17_x86_64.manylinux2014_x86_64.whl (2.1 MB)\n",
      "Collecting jsonschema-specifications>=2023.03.6\n",
      "  Using cached jsonschema_specifications-2023.7.1-py3-none-any.whl (17 kB)\n",
      "Collecting importlib-resources>=1.4.0; python_version < \"3.9\"\n",
      "  Using cached importlib_resources-6.0.1-py3-none-any.whl (34 kB)\n",
      "Collecting pkgutil-resolve-name>=1.3.10; python_version < \"3.9\"\n",
      "  Using cached pkgutil_resolve_name-1.3.10-py3-none-any.whl (4.7 kB)\n",
      "Collecting rpds-py>=0.7.1\n",
      "  Using cached rpds_py-0.9.2-cp38-cp38-manylinux_2_17_x86_64.manylinux2014_x86_64.whl (1.2 MB)\n",
      "Collecting referencing>=0.28.4\n",
      "  Using cached referencing-0.30.2-py3-none-any.whl (25 kB)\n",
      "Requirement already satisfied: cytoolz>=0.10.1; implementation_name == \"cpython\" in /opt/conda/lib/python3.8/site-packages (from eth-utils>=2.1.0->web3) (0.11.0)\n",
      "Collecting regex>=2022.3.15\n",
      "  Using cached regex-2023.8.8-cp38-cp38-manylinux_2_17_x86_64.manylinux2014_x86_64.whl (774 kB)\n",
      "Requirement already satisfied: zipp>=3.1.0; python_version < \"3.10\" in /opt/conda/lib/python3.8/site-packages (from importlib-resources>=1.4.0; python_version < \"3.9\"->jsonschema>=4.0.0->web3) (3.3.0)\n",
      "Requirement already satisfied: toolz>=0.8.0 in /opt/conda/lib/python3.8/site-packages (from cytoolz>=0.10.1; implementation_name == \"cpython\"->eth-utils>=2.1.0->web3) (0.11.1)\n",
      "Installing collected packages: lru-dict, eth-typing, pycryptodome, eth-hash, eth-utils, regex, parsimonious, eth-abi, hexbytes, rlp, bitarray, eth-keys, eth-keyfile, eth-rlp, eth-account, typing-extensions, multidict, yarl, frozenlist, aiosignal, async-timeout, charset-normalizer, aiohttp, websockets, importlib-resources, rpds-py, referencing, jsonschema-specifications, pkgutil-resolve-name, jsonschema, pyunormalize, protobuf, web3\n",
      "  Attempting uninstall: typing-extensions\n",
      "    Found existing installation: typing-extensions 3.7.4.2\n",
      "    Uninstalling typing-extensions-3.7.4.2:\n",
      "      Successfully uninstalled typing-extensions-3.7.4.2\n",
      "  Attempting uninstall: jsonschema\n",
      "    Found existing installation: jsonschema 3.2.0\n",
      "    Uninstalling jsonschema-3.2.0:\n",
      "      Successfully uninstalled jsonschema-3.2.0\n",
      "  Attempting uninstall: protobuf\n",
      "    Found existing installation: protobuf 3.12.4\n",
      "    Uninstalling protobuf-3.12.4:\n",
      "      Successfully uninstalled protobuf-3.12.4\n",
      "\u001b[31mERROR: After October 2020 you may experience errors when installing or updating packages. This is because pip will change the way that it resolves dependency conflicts.\n",
      "\n",
      "We recommend you use --use-feature=2020-resolver to test your packages with the new resolver before it becomes the default.\n",
      "\n",
      "jsonschema 4.19.0 requires attrs>=22.2.0, but you'll have attrs 20.2.0 which is incompatible.\n",
      "referencing 0.30.2 requires attrs>=22.2.0, but you'll have attrs 20.2.0 which is incompatible.\u001b[0m\n",
      "Successfully installed aiohttp-3.8.5 aiosignal-1.3.1 async-timeout-4.0.3 bitarray-2.8.1 charset-normalizer-3.2.0 eth-abi-4.1.0 eth-account-0.9.0 eth-hash-0.5.2 eth-keyfile-0.6.1 eth-keys-0.4.0 eth-rlp-0.3.0 eth-typing-3.4.0 eth-utils-2.2.0 frozenlist-1.4.0 hexbytes-0.3.1 importlib-resources-6.0.1 jsonschema-4.19.0 jsonschema-specifications-2023.7.1 lru-dict-1.2.0 multidict-6.0.4 parsimonious-0.9.0 pkgutil-resolve-name-1.3.10 protobuf-4.24.1 pycryptodome-3.18.0 pyunormalize-15.0.0 referencing-0.30.2 regex-2023.8.8 rlp-3.0.0 rpds-py-0.9.2 typing-extensions-4.7.1 web3-6.9.0 websockets-11.0.3 yarl-1.9.2\n"
     ]
    }
   ],
   "source": [
    "#!pip install web3"
   ]
  },
  {
   "cell_type": "code",
   "execution_count": 1,
   "metadata": {},
   "outputs": [],
   "source": [
    "import pandas as pd\n",
    "import requests\n",
    "import datetime\n",
    "import time\n",
    "import json\n",
    "from web3 import Web3 as web3\n",
    "import numpy as np\n",
    "from web3 import Web3"
   ]
  },
  {
   "cell_type": "code",
   "execution_count": null,
   "metadata": {},
   "outputs": [],
   "source": [
    "# Initialize a Web3 instance\n",
    "infura_project_id = 'YOUR-PROJECT-ID'\n",
    "infura_url = f'https://mainnet.infura.io/v3/{infura_project_id}'\n",
    "\n",
    "web3 = Web3(Web3.HTTPProvider(infura_url))"
   ]
  },
  {
   "cell_type": "code",
   "execution_count": null,
   "metadata": {},
   "outputs": [],
   "source": [
    "#introduce a caching layer to reduce API calls\n",
    "\n",
    "from web3.middleware import geth_poa_middleware, simple_cache_middleware\n",
    "# add the geth_poa_middleware to handle POA chains\n",
    "web3.middleware_onion.inject(geth_poa_middleware, layer=0)\n",
    "\n",
    "# add the simple_cache_middleware to cache responses\n",
    "web3.middleware_onion.add(simple_cache_middleware)"
   ]
  },
  {
   "cell_type": "code",
   "execution_count": null,
   "metadata": {},
   "outputs": [],
   "source": [
    "#load top token addresses and block numbers that will be needed later on\n",
    "top_tokens_addresses = pd.read_csv('../../utils/price-data/top_tokens_addresses.csv') \n",
    "block_numbers_df = pd.read_csv('../../utils/block-numbers/block_numbers_2020-01-2023-04.csv')"
   ]
  },
  {
   "cell_type": "markdown",
   "metadata": {},
   "source": [
    "<h1 style=\"color: blue; font-size: 36px; font-family: Arial;\">Optimism Gateway Escrow</h1>\n"
   ]
  },
  {
   "cell_type": "code",
   "execution_count": 2,
   "metadata": {},
   "outputs": [],
   "source": [
    "#contract-address: 0x99C9fc46f92E8a1c0deC1b1747d010903E884bE1\n",
    "#created at Jun-22-2021 at block 12686786\n"
   ]
  },
  {
   "cell_type": "code",
   "execution_count": 51,
   "metadata": {},
   "outputs": [
    {
     "name": "stdout",
     "output_type": "stream",
     "text": [
      "                                  Token Address\n",
      "0    0xdac17f958d2ee523a2206206994597c13d831ec7\n",
      "1    0x2260fac5e5542a773aa44fbcfedf7c193bc2c599\n",
      "2    0x514910771af9ca656af840dff83e8264ecf986ca\n",
      "3    0xd291e7a03283640fdc51b121ac401383a46cc623\n",
      "4    0x9f8f72aa9304c8b593d555f12ef6589cc3a579a2\n",
      "..                                          ...\n",
      "220  0xbf067cc9b13d11f7d370b825b4d9f695239ffb9b\n",
      "221  0x245151454c790eb870498e9e5b590145fac1463f\n",
      "222  0x9b7469e83a09165ec0c42ed6220456afc1fa6a80\n",
      "223  0x6bd71a44af6d03477eb6f47a92265bb41e8b33f9\n",
      "224  0x115ec79f1de567ec68b7ae7eda501b406626478e\n",
      "\n",
      "[225 rows x 1 columns]\n"
     ]
    }
   ],
   "source": [
    "import pandas as pd\n",
    "import requests\n",
    "\n",
    "# Replace API_KEY with your own Ethplorer API key\n",
    "API_KEY = \"YOUR-API-KEY\"\n",
    "\n",
    "# Replace CONTRACT_ADDRESS with the address of the contract you want to query\n",
    "CONTRACT_ADDRESS = \"0x99C9fc46f92E8a1c0deC1b1747d010903E884bE1\"\n",
    "\n",
    "# Construct the API endpoint URL\n",
    "url = f\"https://api.ethplorer.io/getAddressInfo/{CONTRACT_ADDRESS}?apiKey={API_KEY}\"\n",
    "\n",
    "# Send the API request and parse the response as JSON\n",
    "response = requests.get(url)\n",
    "data = response.json()\n",
    "# Get the list of token balances held by the contract\n",
    "token_balances = data.get(\"tokens\", [])\n",
    "\n",
    "# Create an empty DataFrame\n",
    "token_addresses_held_OptimismGateway = pd.DataFrame(columns=[\"Token Address\"])\n",
    "\n",
    "# Append each token address to a new row in the DataFrame\n",
    "for token_balance in token_balances:\n",
    "    token_address = token_balance.get(\"tokenInfo\", {}).get(\"address\")\n",
    "    token_addresses_held_OptimismGateway = token_addresses_held_OptimismGateway.append({\"Token Address\": token_address}, ignore_index=True)\n",
    "\n",
    "# Print the DataFrame\n",
    "print(token_addresses_held_OptimismGateway)"
   ]
  },
  {
   "cell_type": "markdown",
   "metadata": {},
   "source": [
    "## Find out tokens that are held by the escrow that are also within the top300 tokens of coingekcko"
   ]
  },
  {
   "cell_type": "code",
   "execution_count": 52,
   "metadata": {},
   "outputs": [],
   "source": [
    "# all token_addresses held by the escrow that also appear in the top 300 of CoinGecko\n",
    "OptimismGateway_top_token_addresses = pd.merge(top_tokens_addresses, token_addresses_held_OptimismGateway, left_on=\"token_address\", right_on=\"Token Address\")\n",
    "OptimismGateway_top_token_addresses['token_address'] = OptimismGateway_top_token_addresses['token_address'].apply(lambda x: web3.to_checksum_address(x))\n"
   ]
  },
  {
   "cell_type": "code",
   "execution_count": 13,
   "metadata": {
    "collapsed": true,
    "jupyter": {
     "outputs_hidden": true
    }
   },
   "outputs": [
    {
     "data": {
      "text/html": [
       "<div>\n",
       "<style scoped>\n",
       "    .dataframe tbody tr th:only-of-type {\n",
       "        vertical-align: middle;\n",
       "    }\n",
       "\n",
       "    .dataframe tbody tr th {\n",
       "        vertical-align: top;\n",
       "    }\n",
       "\n",
       "    .dataframe thead th {\n",
       "        text-align: right;\n",
       "    }\n",
       "</style>\n",
       "<table border=\"1\" class=\"dataframe\">\n",
       "  <thead>\n",
       "    <tr style=\"text-align: right;\">\n",
       "      <th></th>\n",
       "      <th>coingecko_id</th>\n",
       "      <th>token_address</th>\n",
       "      <th>decimals</th>\n",
       "      <th>Token Address</th>\n",
       "    </tr>\n",
       "  </thead>\n",
       "  <tbody>\n",
       "    <tr>\n",
       "      <th>0</th>\n",
       "      <td>tether</td>\n",
       "      <td>0xdAC17F958D2ee523a2206206994597C13D831ec7</td>\n",
       "      <td>6</td>\n",
       "      <td>0xdac17f958d2ee523a2206206994597c13d831ec7</td>\n",
       "    </tr>\n",
       "    <tr>\n",
       "      <th>1</th>\n",
       "      <td>usd-coin</td>\n",
       "      <td>0xA0b86991c6218b36c1d19D4a2e9Eb0cE3606eB48</td>\n",
       "      <td>6</td>\n",
       "      <td>0xa0b86991c6218b36c1d19d4a2e9eb0ce3606eb48</td>\n",
       "    </tr>\n",
       "    <tr>\n",
       "      <th>2</th>\n",
       "      <td>matic-network</td>\n",
       "      <td>0x7D1AfA7B718fb893dB30A3aBc0Cfc608AaCfeBB0</td>\n",
       "      <td>18</td>\n",
       "      <td>0x7d1afa7b718fb893db30a3abc0cfc608aacfebb0</td>\n",
       "    </tr>\n",
       "    <tr>\n",
       "      <th>3</th>\n",
       "      <td>dai</td>\n",
       "      <td>0x6B175474E89094C44Da98b954EedeAC495271d0F</td>\n",
       "      <td>18</td>\n",
       "      <td>0x6b175474e89094c44da98b954eedeac495271d0f</td>\n",
       "    </tr>\n",
       "    <tr>\n",
       "      <th>4</th>\n",
       "      <td>uniswap</td>\n",
       "      <td>0x1f9840a85d5aF5bf1D1762F925BDADdC4201F984</td>\n",
       "      <td>18</td>\n",
       "      <td>0x1f9840a85d5af5bf1d1762f925bdaddc4201f984</td>\n",
       "    </tr>\n",
       "    <tr>\n",
       "      <th>5</th>\n",
       "      <td>wrapped-bitcoin</td>\n",
       "      <td>0x2260FAC5E5542a773Aa44fBCfeDf7C193bc2C599</td>\n",
       "      <td>8</td>\n",
       "      <td>0x2260fac5e5542a773aa44fbcfedf7c193bc2c599</td>\n",
       "    </tr>\n",
       "    <tr>\n",
       "      <th>6</th>\n",
       "      <td>chainlink</td>\n",
       "      <td>0x514910771AF9Ca656af840dff83E8264EcF986CA</td>\n",
       "      <td>18</td>\n",
       "      <td>0x514910771af9ca656af840dff83e8264ecf986ca</td>\n",
       "    </tr>\n",
       "    <tr>\n",
       "      <th>7</th>\n",
       "      <td>the-open-network</td>\n",
       "      <td>0x582d872A1B094FC48F5DE31D3B73F2D9bE47def1</td>\n",
       "      <td>9</td>\n",
       "      <td>0x582d872a1b094fc48f5de31d3b73f2d9be47def1</td>\n",
       "    </tr>\n",
       "    <tr>\n",
       "      <th>8</th>\n",
       "      <td>lido-dao</td>\n",
       "      <td>0x5A98FcBEA516Cf06857215779Fd812CA3beF1B32</td>\n",
       "      <td>18</td>\n",
       "      <td>0x5a98fcbea516cf06857215779fd812ca3bef1b32</td>\n",
       "    </tr>\n",
       "    <tr>\n",
       "      <th>9</th>\n",
       "      <td>true-usd</td>\n",
       "      <td>0x0000000000085d4780B73119b644AE5ecd22b376</td>\n",
       "      <td>18</td>\n",
       "      <td>0x0000000000085d4780b73119b644ae5ecd22b376</td>\n",
       "    </tr>\n",
       "    <tr>\n",
       "      <th>10</th>\n",
       "      <td>crypto-com-chain</td>\n",
       "      <td>0xA0b73E1Ff0B80914AB6fe0444E65848C4C34450b</td>\n",
       "      <td>8</td>\n",
       "      <td>0xa0b73e1ff0b80914ab6fe0444e65848c4c34450b</td>\n",
       "    </tr>\n",
       "    <tr>\n",
       "      <th>11</th>\n",
       "      <td>apecoin</td>\n",
       "      <td>0x4d224452801ACEd8B2F0aebE155379bb5D594381</td>\n",
       "      <td>18</td>\n",
       "      <td>0x4d224452801aced8b2f0aebe155379bb5d594381</td>\n",
       "    </tr>\n",
       "    <tr>\n",
       "      <th>12</th>\n",
       "      <td>the-sandbox</td>\n",
       "      <td>0x3845badAde8e6dFF049820680d1F14bD3903a5d0</td>\n",
       "      <td>18</td>\n",
       "      <td>0x3845badade8e6dff049820680d1f14bd3903a5d0</td>\n",
       "    </tr>\n",
       "    <tr>\n",
       "      <th>13</th>\n",
       "      <td>aave</td>\n",
       "      <td>0x7Fc66500c84A76Ad7e9c93437bFc5Ac33E2DDaE9</td>\n",
       "      <td>18</td>\n",
       "      <td>0x7fc66500c84a76ad7e9c93437bfc5ac33e2ddae9</td>\n",
       "    </tr>\n",
       "    <tr>\n",
       "      <th>14</th>\n",
       "      <td>decentraland</td>\n",
       "      <td>0x0F5D2fB29fb7d3CFeE444a200298f468908cC942</td>\n",
       "      <td>18</td>\n",
       "      <td>0x0f5d2fb29fb7d3cfee444a200298f468908cc942</td>\n",
       "    </tr>\n",
       "    <tr>\n",
       "      <th>15</th>\n",
       "      <td>rocket-pool</td>\n",
       "      <td>0xD33526068D116cE69F19A9ee46F0bd304F21A51f</td>\n",
       "      <td>18</td>\n",
       "      <td>0xd33526068d116ce69f19a9ee46f0bd304f21a51f</td>\n",
       "    </tr>\n",
       "    <tr>\n",
       "      <th>16</th>\n",
       "      <td>frax</td>\n",
       "      <td>0x853d955aCEf822Db058eb8505911ED77F175b99e</td>\n",
       "      <td>18</td>\n",
       "      <td>0x853d955acef822db058eb8505911ed77f175b99e</td>\n",
       "    </tr>\n",
       "    <tr>\n",
       "      <th>17</th>\n",
       "      <td>havven</td>\n",
       "      <td>0xC011a73ee8576Fb46F5E1c5751cA3B9Fe0af2a6F</td>\n",
       "      <td>18</td>\n",
       "      <td>0xc011a73ee8576fb46f5e1c5751ca3b9fe0af2a6f</td>\n",
       "    </tr>\n",
       "    <tr>\n",
       "      <th>18</th>\n",
       "      <td>curve-dao-token</td>\n",
       "      <td>0xD533a949740bb3306d119CC777fa900bA034cd52</td>\n",
       "      <td>18</td>\n",
       "      <td>0xd533a949740bb3306d119cc777fa900ba034cd52</td>\n",
       "    </tr>\n",
       "    <tr>\n",
       "      <th>19</th>\n",
       "      <td>usdd</td>\n",
       "      <td>0x0C10bF8FcB7Bf5412187A595ab97a3609160b5c6</td>\n",
       "      <td>18</td>\n",
       "      <td>0x0c10bf8fcb7bf5412187a595ab97a3609160b5c6</td>\n",
       "    </tr>\n",
       "    <tr>\n",
       "      <th>20</th>\n",
       "      <td>chiliz</td>\n",
       "      <td>0x3506424F91fD33084466F402d5D97f05F8e3b4AF</td>\n",
       "      <td>18</td>\n",
       "      <td>0x3506424f91fd33084466f402d5d97f05f8e3b4af</td>\n",
       "    </tr>\n",
       "    <tr>\n",
       "      <th>21</th>\n",
       "      <td>maker</td>\n",
       "      <td>0x9f8F72aA9304c8B593d555F12eF6589cC3A579A2</td>\n",
       "      <td>18</td>\n",
       "      <td>0x9f8f72aa9304c8b593d555f12ef6589cc3a579a2</td>\n",
       "    </tr>\n",
       "    <tr>\n",
       "      <th>22</th>\n",
       "      <td>woo-network</td>\n",
       "      <td>0x4691937a7508860F876c9c0a2a617E7d9E945D4B</td>\n",
       "      <td>18</td>\n",
       "      <td>0x4691937a7508860f876c9c0a2a617e7d9e945d4b</td>\n",
       "    </tr>\n",
       "    <tr>\n",
       "      <th>23</th>\n",
       "      <td>rocket-pool-eth</td>\n",
       "      <td>0xae78736Cd615f374D3085123A210448E74Fc6393</td>\n",
       "      <td>18</td>\n",
       "      <td>0xae78736cd615f374d3085123a210448e74fc6393</td>\n",
       "    </tr>\n",
       "    <tr>\n",
       "      <th>24</th>\n",
       "      <td>loopring</td>\n",
       "      <td>0xBBbbCA6A901c926F240b89EacB641d8Aec7AEafD</td>\n",
       "      <td>18</td>\n",
       "      <td>0xbbbbca6a901c926f240b89eacb641d8aec7aeafd</td>\n",
       "    </tr>\n",
       "    <tr>\n",
       "      <th>25</th>\n",
       "      <td>enjincoin</td>\n",
       "      <td>0xF629cBd94d3791C9250152BD8dfBDF380E2a3B9c</td>\n",
       "      <td>18</td>\n",
       "      <td>0xf629cbd94d3791c9250152bd8dfbdf380e2a3b9c</td>\n",
       "    </tr>\n",
       "    <tr>\n",
       "      <th>26</th>\n",
       "      <td>ethereum-name-service</td>\n",
       "      <td>0xC18360217D8F7Ab5e7c516566761Ea12Ce7F9D72</td>\n",
       "      <td>18</td>\n",
       "      <td>0xc18360217d8f7ab5e7c516566761ea12ce7f9d72</td>\n",
       "    </tr>\n",
       "    <tr>\n",
       "      <th>27</th>\n",
       "      <td>balancer</td>\n",
       "      <td>0xba100000625a3754423978a60c9317c58a424e3D</td>\n",
       "      <td>18</td>\n",
       "      <td>0xba100000625a3754423978a60c9317c58a424e3d</td>\n",
       "    </tr>\n",
       "    <tr>\n",
       "      <th>28</th>\n",
       "      <td>liquity-usd</td>\n",
       "      <td>0x5f98805A4E8be255a32880FDeC7F6728C6568bA0</td>\n",
       "      <td>18</td>\n",
       "      <td>0x5f98805a4e8be255a32880fdec7f6728c6568ba0</td>\n",
       "    </tr>\n",
       "    <tr>\n",
       "      <th>29</th>\n",
       "      <td>0x</td>\n",
       "      <td>0xE41d2489571d322189246DaFA5ebDe1F4699F498</td>\n",
       "      <td>18</td>\n",
       "      <td>0xe41d2489571d322189246dafa5ebde1f4699f498</td>\n",
       "    </tr>\n",
       "    <tr>\n",
       "      <th>30</th>\n",
       "      <td>sushi</td>\n",
       "      <td>0x6B3595068778DD592e39A122f4f5a5cF09C90fE2</td>\n",
       "      <td>18</td>\n",
       "      <td>0x6b3595068778dd592e39a122f4f5a5cf09c90fe2</td>\n",
       "    </tr>\n",
       "    <tr>\n",
       "      <th>31</th>\n",
       "      <td>biconomy</td>\n",
       "      <td>0xF17e65822b568B3903685a7c9F496CF7656Cc6C2</td>\n",
       "      <td>18</td>\n",
       "      <td>0xf17e65822b568b3903685a7c9f496cf7656cc6c2</td>\n",
       "    </tr>\n",
       "    <tr>\n",
       "      <th>32</th>\n",
       "      <td>cartesi</td>\n",
       "      <td>0x491604c0FDF08347Dd1fa4Ee062a822A5DD06B5D</td>\n",
       "      <td>18</td>\n",
       "      <td>0x491604c0fdf08347dd1fa4ee062a822a5dd06b5d</td>\n",
       "    </tr>\n",
       "    <tr>\n",
       "      <th>33</th>\n",
       "      <td>uma</td>\n",
       "      <td>0x04Fa0d235C4abf4BcF4787aF4CF447DE572eF828</td>\n",
       "      <td>18</td>\n",
       "      <td>0x04fa0d235c4abf4bcf4787af4cf447de572ef828</td>\n",
       "    </tr>\n",
       "    <tr>\n",
       "      <th>34</th>\n",
       "      <td>kyber-network-crystal</td>\n",
       "      <td>0xdeFA4e8a7bcBA345F687a2f1456F5Edd9CE97202</td>\n",
       "      <td>18</td>\n",
       "      <td>0xdefa4e8a7bcba345f687a2f1456f5edd9ce97202</td>\n",
       "    </tr>\n",
       "    <tr>\n",
       "      <th>35</th>\n",
       "      <td>playdapp</td>\n",
       "      <td>0x3a4f40631a4f906c2BaD353Ed06De7A5D3fCb430</td>\n",
       "      <td>18</td>\n",
       "      <td>0x3a4f40631a4f906c2bad353ed06de7a5d3fcb430</td>\n",
       "    </tr>\n",
       "    <tr>\n",
       "      <th>36</th>\n",
       "      <td>gitcoin</td>\n",
       "      <td>0xDe30da39c46104798bB5aA3fe8B9e0e1F348163F</td>\n",
       "      <td>18</td>\n",
       "      <td>0xde30da39c46104798bb5aa3fe8b9e0e1f348163f</td>\n",
       "    </tr>\n",
       "    <tr>\n",
       "      <th>37</th>\n",
       "      <td>perpetual-protocol</td>\n",
       "      <td>0xbC396689893D065F41bc2C6EcbeE5e0085233447</td>\n",
       "      <td>18</td>\n",
       "      <td>0xbc396689893d065f41bc2c6ecbee5e0085233447</td>\n",
       "    </tr>\n",
       "  </tbody>\n",
       "</table>\n",
       "</div>"
      ],
      "text/plain": [
       "             coingecko_id                               token_address  \\\n",
       "0                  tether  0xdAC17F958D2ee523a2206206994597C13D831ec7   \n",
       "1                usd-coin  0xA0b86991c6218b36c1d19D4a2e9Eb0cE3606eB48   \n",
       "2           matic-network  0x7D1AfA7B718fb893dB30A3aBc0Cfc608AaCfeBB0   \n",
       "3                     dai  0x6B175474E89094C44Da98b954EedeAC495271d0F   \n",
       "4                 uniswap  0x1f9840a85d5aF5bf1D1762F925BDADdC4201F984   \n",
       "5         wrapped-bitcoin  0x2260FAC5E5542a773Aa44fBCfeDf7C193bc2C599   \n",
       "6               chainlink  0x514910771AF9Ca656af840dff83E8264EcF986CA   \n",
       "7        the-open-network  0x582d872A1B094FC48F5DE31D3B73F2D9bE47def1   \n",
       "8                lido-dao  0x5A98FcBEA516Cf06857215779Fd812CA3beF1B32   \n",
       "9                true-usd  0x0000000000085d4780B73119b644AE5ecd22b376   \n",
       "10       crypto-com-chain  0xA0b73E1Ff0B80914AB6fe0444E65848C4C34450b   \n",
       "11                apecoin  0x4d224452801ACEd8B2F0aebE155379bb5D594381   \n",
       "12            the-sandbox  0x3845badAde8e6dFF049820680d1F14bD3903a5d0   \n",
       "13                   aave  0x7Fc66500c84A76Ad7e9c93437bFc5Ac33E2DDaE9   \n",
       "14           decentraland  0x0F5D2fB29fb7d3CFeE444a200298f468908cC942   \n",
       "15            rocket-pool  0xD33526068D116cE69F19A9ee46F0bd304F21A51f   \n",
       "16                   frax  0x853d955aCEf822Db058eb8505911ED77F175b99e   \n",
       "17                 havven  0xC011a73ee8576Fb46F5E1c5751cA3B9Fe0af2a6F   \n",
       "18        curve-dao-token  0xD533a949740bb3306d119CC777fa900bA034cd52   \n",
       "19                   usdd  0x0C10bF8FcB7Bf5412187A595ab97a3609160b5c6   \n",
       "20                 chiliz  0x3506424F91fD33084466F402d5D97f05F8e3b4AF   \n",
       "21                  maker  0x9f8F72aA9304c8B593d555F12eF6589cC3A579A2   \n",
       "22            woo-network  0x4691937a7508860F876c9c0a2a617E7d9E945D4B   \n",
       "23        rocket-pool-eth  0xae78736Cd615f374D3085123A210448E74Fc6393   \n",
       "24               loopring  0xBBbbCA6A901c926F240b89EacB641d8Aec7AEafD   \n",
       "25              enjincoin  0xF629cBd94d3791C9250152BD8dfBDF380E2a3B9c   \n",
       "26  ethereum-name-service  0xC18360217D8F7Ab5e7c516566761Ea12Ce7F9D72   \n",
       "27               balancer  0xba100000625a3754423978a60c9317c58a424e3D   \n",
       "28            liquity-usd  0x5f98805A4E8be255a32880FDeC7F6728C6568bA0   \n",
       "29                     0x  0xE41d2489571d322189246DaFA5ebDe1F4699F498   \n",
       "30                  sushi  0x6B3595068778DD592e39A122f4f5a5cF09C90fE2   \n",
       "31               biconomy  0xF17e65822b568B3903685a7c9F496CF7656Cc6C2   \n",
       "32                cartesi  0x491604c0FDF08347Dd1fa4Ee062a822A5DD06B5D   \n",
       "33                    uma  0x04Fa0d235C4abf4BcF4787aF4CF447DE572eF828   \n",
       "34  kyber-network-crystal  0xdeFA4e8a7bcBA345F687a2f1456F5Edd9CE97202   \n",
       "35               playdapp  0x3a4f40631a4f906c2BaD353Ed06De7A5D3fCb430   \n",
       "36                gitcoin  0xDe30da39c46104798bB5aA3fe8B9e0e1F348163F   \n",
       "37     perpetual-protocol  0xbC396689893D065F41bc2C6EcbeE5e0085233447   \n",
       "\n",
       "    decimals                               Token Address  \n",
       "0          6  0xdac17f958d2ee523a2206206994597c13d831ec7  \n",
       "1          6  0xa0b86991c6218b36c1d19d4a2e9eb0ce3606eb48  \n",
       "2         18  0x7d1afa7b718fb893db30a3abc0cfc608aacfebb0  \n",
       "3         18  0x6b175474e89094c44da98b954eedeac495271d0f  \n",
       "4         18  0x1f9840a85d5af5bf1d1762f925bdaddc4201f984  \n",
       "5          8  0x2260fac5e5542a773aa44fbcfedf7c193bc2c599  \n",
       "6         18  0x514910771af9ca656af840dff83e8264ecf986ca  \n",
       "7          9  0x582d872a1b094fc48f5de31d3b73f2d9be47def1  \n",
       "8         18  0x5a98fcbea516cf06857215779fd812ca3bef1b32  \n",
       "9         18  0x0000000000085d4780b73119b644ae5ecd22b376  \n",
       "10         8  0xa0b73e1ff0b80914ab6fe0444e65848c4c34450b  \n",
       "11        18  0x4d224452801aced8b2f0aebe155379bb5d594381  \n",
       "12        18  0x3845badade8e6dff049820680d1f14bd3903a5d0  \n",
       "13        18  0x7fc66500c84a76ad7e9c93437bfc5ac33e2ddae9  \n",
       "14        18  0x0f5d2fb29fb7d3cfee444a200298f468908cc942  \n",
       "15        18  0xd33526068d116ce69f19a9ee46f0bd304f21a51f  \n",
       "16        18  0x853d955acef822db058eb8505911ed77f175b99e  \n",
       "17        18  0xc011a73ee8576fb46f5e1c5751ca3b9fe0af2a6f  \n",
       "18        18  0xd533a949740bb3306d119cc777fa900ba034cd52  \n",
       "19        18  0x0c10bf8fcb7bf5412187a595ab97a3609160b5c6  \n",
       "20        18  0x3506424f91fd33084466f402d5d97f05f8e3b4af  \n",
       "21        18  0x9f8f72aa9304c8b593d555f12ef6589cc3a579a2  \n",
       "22        18  0x4691937a7508860f876c9c0a2a617e7d9e945d4b  \n",
       "23        18  0xae78736cd615f374d3085123a210448e74fc6393  \n",
       "24        18  0xbbbbca6a901c926f240b89eacb641d8aec7aeafd  \n",
       "25        18  0xf629cbd94d3791c9250152bd8dfbdf380e2a3b9c  \n",
       "26        18  0xc18360217d8f7ab5e7c516566761ea12ce7f9d72  \n",
       "27        18  0xba100000625a3754423978a60c9317c58a424e3d  \n",
       "28        18  0x5f98805a4e8be255a32880fdec7f6728c6568ba0  \n",
       "29        18  0xe41d2489571d322189246dafa5ebde1f4699f498  \n",
       "30        18  0x6b3595068778dd592e39a122f4f5a5cf09c90fe2  \n",
       "31        18  0xf17e65822b568b3903685a7c9f496cf7656cc6c2  \n",
       "32        18  0x491604c0fdf08347dd1fa4ee062a822a5dd06b5d  \n",
       "33        18  0x04fa0d235c4abf4bcf4787af4cf447de572ef828  \n",
       "34        18  0xdefa4e8a7bcba345f687a2f1456f5edd9ce97202  \n",
       "35        18  0x3a4f40631a4f906c2bad353ed06de7a5d3fcb430  \n",
       "36        18  0xde30da39c46104798bb5aa3fe8b9e0e1f348163f  \n",
       "37        18  0xbc396689893d065f41bc2c6ecbee5e0085233447  "
      ]
     },
     "execution_count": 13,
     "metadata": {},
     "output_type": "execute_result"
    }
   ],
   "source": [
    "OptimismGateway_top_token_addresses"
   ]
  },
  {
   "cell_type": "markdown",
   "metadata": {},
   "source": [
    "## Batch 1"
   ]
  },
  {
   "cell_type": "code",
   "execution_count": null,
   "metadata": {},
   "outputs": [],
   "source": [
    "#new fin try\n",
    "def get_token_balance(token_holding_address_checksum, token_address, contract, block_number):\n",
    "    try:\n",
    "        token_balance = contract.functions.balanceOf(token_holding_address_checksum).call(block_identifier=block_number)\n",
    "        has_error = False\n",
    "    except Exception as e:\n",
    "        token_balance = 0\n",
    "        has_error = True\n",
    "        print(f\"Error getting balance for {token_address}: {e}\")\n",
    "    return token_balance, has_error\n",
    "\n",
    "# Define the ERC20 contract ABI\n",
    "abi = [\n",
    "    {\n",
    "        'inputs': [],\n",
    "        'name': 'decimals',\n",
    "        'outputs': [{'internalType': 'uint8', 'name': '', 'type': 'uint8'}],\n",
    "        'stateMutability': 'view',\n",
    "        'type': 'function'\n",
    "    },\n",
    "    {\n",
    "        'inputs': [{'internalType': 'address', 'name': '', 'type': 'address'}],\n",
    "        'name': 'balanceOf',\n",
    "        'outputs': [{'internalType': 'uint256', 'name': '', 'type': 'uint256'}],\n",
    "        'stateMutability': 'view',\n",
    "        'type': 'function'\n",
    "    }\n",
    "]\n",
    "\n",
    "# Define the token addresses DataFrame\n",
    "token_addresses_df = OptimismGateway_top_token_addresses\n",
    "\n",
    "token_holding_address = \"0x99C9fc46f92E8a1c0deC1b1747d010903E884bE1\"\n",
    "token_holding_address_checksum = web3.to_checksum_address(token_holding_address)\n",
    "\n",
    "# Create a contract instance for each token address\n",
    "contracts = {}\n",
    "for _, row in token_addresses_df.iterrows():\n",
    "    token_address = row['Token Address']\n",
    "    token_address_checksum = web3.to_checksum_address(token_address)\n",
    "    contract = web3.eth.contract(address=token_address_checksum, abi=abi)\n",
    "    contracts[token_address] = contract\n",
    "\n",
    "# Retrieve the token balances for each token address and block number, and store the results in a DataFrame\n",
    "balances = []\n",
    "for i, row in block_numbers_df.iloc[538:1000].iterrows():\n",
    "    print(f\"Retrieving token balances for {row['Date']} - Block Number:{row['Block Number']} \")\n",
    "    for _, row2 in token_addresses_df.iterrows(): \n",
    "        token_decimals = row2['decimals']\n",
    "        token_address = row2['Token Address']\n",
    "        block_number = row['Block Number']\n",
    "        contract = contracts[token_address]\n",
    "        token_balance, has_error = get_token_balance(token_holding_address_checksum, token_address, contract, block_number)\n",
    "        #print(f\"On day {row['Date']} token address {token_address} had a balance of {token_balance} \")\n",
    "        #print(f\"Token balance for address {token_address} at Block-Nr. {row['Block Number']} is: {token_balance}\")\n",
    "        time.sleep(0.5)\n",
    "        balances.append({\n",
    "            'date': row['Date'],\n",
    "            'block_number': block_number,\n",
    "            'token_address': token_address,\n",
    "            'token_name': row2['coingecko_id'],\n",
    "            'token_decimals': row2['decimals'],\n",
    "            'balance': token_balance / 10**token_decimals,\n",
    "            'has_error': has_error\n",
    "        })\n",
    "\n",
    "L1OptimismGateway_token_balances_per_day_part01 = pd.DataFrame(balances)\n"
   ]
  },
  {
   "cell_type": "code",
   "execution_count": null,
   "metadata": {},
   "outputs": [],
   "source": [
    "#L1OptimismGateway_token_balances_per_day_part01.to_csv('L1OptimismGateway/L1OptimismGateway_token_balances_per_day_part01.csv', index=False)"
   ]
  },
  {
   "cell_type": "markdown",
   "metadata": {},
   "source": [
    "## Batch 2"
   ]
  },
  {
   "cell_type": "code",
   "execution_count": null,
   "metadata": {
    "collapsed": true,
    "jupyter": {
     "outputs_hidden": true
    }
   },
   "outputs": [],
   "source": [
    "\n",
    "def get_token_balance(token_holding_address_checksum, token_address, contract, block_number):\n",
    "    try:\n",
    "        token_balance = contract.functions.balanceOf(token_holding_address_checksum).call(block_identifier=block_number)\n",
    "        has_error = False\n",
    "    except Exception as e:\n",
    "        token_balance = 0\n",
    "        has_error = True\n",
    "        print(f\"Error getting balance for {token_address}: {e}\")\n",
    "    return token_balance, has_error\n",
    "\n",
    "# Define the ERC20 contract ABI\n",
    "abi = [\n",
    "    {\n",
    "        'inputs': [],\n",
    "        'name': 'decimals',\n",
    "        'outputs': [{'internalType': 'uint8', 'name': '', 'type': 'uint8'}],\n",
    "        'stateMutability': 'view',\n",
    "        'type': 'function'\n",
    "    },\n",
    "    {\n",
    "        'inputs': [{'internalType': 'address', 'name': '', 'type': 'address'}],\n",
    "        'name': 'balanceOf',\n",
    "        'outputs': [{'internalType': 'uint256', 'name': '', 'type': 'uint256'}],\n",
    "        'stateMutability': 'view',\n",
    "        'type': 'function'\n",
    "    }\n",
    "]\n",
    "\n",
    "# Define the token addresses DataFrame\n",
    "token_addresses_df = OptimismGateway_top_token_addresses\n",
    "\n",
    "token_holding_address = \"0x99C9fc46f92E8a1c0deC1b1747d010903E884bE1\"\n",
    "token_holding_address_checksum = web3.to_checksum_address(token_holding_address)\n",
    "\n",
    "# Create a contract instance for each token address\n",
    "contracts = {}\n",
    "for _, row in token_addresses_df.iterrows():\n",
    "    token_address = row['Token Address']\n",
    "    token_address_checksum = web3.to_checksum_address(token_address)\n",
    "    contract = web3.eth.contract(address=token_address_checksum, abi=abi)\n",
    "    contracts[token_address] = contract\n",
    "\n",
    "# Retrieve the token balances for each token address and block number, and store the results in a DataFrame\n",
    "balances = []\n",
    "for i, row in block_numbers_df.iloc[1000:].iterrows():\n",
    "    print(f\"Retrieving token balances for {row['Date']} - Block Number:{row['Block Number']} \")\n",
    "    for _, row2 in token_addresses_df.iterrows(): \n",
    "        token_decimals = row2['decimals']\n",
    "        token_address = row2['Token Address']\n",
    "        block_number = row['Block Number']\n",
    "        contract = contracts[token_address]\n",
    "        token_balance, has_error = get_token_balance(token_holding_address_checksum, token_address, contract, block_number)\n",
    "        #print(f\"On day {row['Date']} token address {token_address} had a balance of {token_balance} \")\n",
    "        #print(f\"Token balance for address {token_address} at Block-Nr. {row['Block Number']} is: {token_balance}\")\n",
    "        time.sleep(0.5)\n",
    "        balances.append({\n",
    "            'date': row['Date'],\n",
    "            'block_number': block_number,\n",
    "            'token_address': token_address,\n",
    "            'token_name': row2['coingecko_id'],\n",
    "            'token_decimals': row2['decimals'],\n",
    "            'balance': token_balance / 10**token_decimals,\n",
    "            'has_error': has_error\n",
    "        })\n",
    "\n",
    "L1OptimismGateway_token_balances_per_day_part02 = pd.DataFrame(balances)\n"
   ]
  },
  {
   "cell_type": "code",
   "execution_count": 18,
   "metadata": {},
   "outputs": [],
   "source": [
    "L1OptimismGateway_token_balances_per_day_part02.to_csv('L1OptimismGateway/L1OptimismGateway_token_balances_per_day_part02.csv', index=False)"
   ]
  },
  {
   "cell_type": "markdown",
   "metadata": {},
   "source": [
    "## Batch 3"
   ]
  },
  {
   "cell_type": "code",
   "execution_count": null,
   "metadata": {
    "collapsed": true,
    "jupyter": {
     "outputs_hidden": true
    }
   },
   "outputs": [],
   "source": [
    "\n",
    "# New function to retrieve Ether balance of a smart contract at a specific block number\n",
    "def get_contract_eth_balance(escrow_checksum, block_number):\n",
    "    return web3.eth.get_balance(escrow_checksum, block_identifier=block_number)\n",
    "\n",
    "\n",
    "escrow = \"0x99C9fc46f92E8a1c0deC1b1747d010903E884bE1\"\n",
    "escrow_checksum = web3.to_checksum_address(escrow)\n",
    "\n",
    "# Retrieve the token and Ether balances for each token address and block number, and store the results in a DataFrame\n",
    "token_address = \"ether\"\n",
    "token_name = \"ethereum\"\n",
    "token_decimals = 18\n",
    "\n",
    "balances = []\n",
    "for i, row in block_numbers_df.iloc[538:].iterrows():\n",
    "\n",
    "    block_number = row['Block Number']\n",
    "    eth_balance = get_contract_eth_balance(escrow_checksum, block_number) / 10**token_decimals # Convert Wei to Ether\n",
    "    print(f\"Retrieving balances for {row['Date']} - Block Number:{row['Block Number']} - balance:{eth_balance}  \")    \n",
    "    balances.append({\n",
    "            'date': row['Date'],\n",
    "            'block_number': block_number,\n",
    "            'token_address': token_address,\n",
    "            'token_name': token_name,\n",
    "            'token_decimals': token_decimals,\n",
    "            'balance': eth_balance,\n",
    "        })\n",
    "    time.sleep(0.5)\n",
    "        \n",
    "L1OptimismGateway_token_balances_per_day__eth_part03 = pd.DataFrame(balances)\n"
   ]
  },
  {
   "cell_type": "code",
   "execution_count": 8,
   "metadata": {},
   "outputs": [],
   "source": [
    "L1OptimismGateway_token_balances_per_day__eth_part03.to_csv('L1OptimismGateway/L1OptimismGateway_token_balances_per_day__eth_part03.csv', index=False)\n"
   ]
  },
  {
   "cell_type": "markdown",
   "metadata": {},
   "source": [
    "<h1 style=\"color: blue; font-size: 36px; font-family: Arial;\">  Dai Escrow</h1>\n"
   ]
  },
  {
   "cell_type": "code",
   "execution_count": null,
   "metadata": {},
   "outputs": [],
   "source": [
    "#contract-address: 0x467194771dAe2967Aef3ECbEDD3Bf9a310C76C65\n",
    "#created at jul-07-2021 at block 12781427"
   ]
  },
  {
   "cell_type": "code",
   "execution_count": null,
   "metadata": {
    "collapsed": true,
    "jupyter": {
     "outputs_hidden": true
    }
   },
   "outputs": [],
   "source": [
    "def get_token_balance(token_holding_address_checksum, token_address, contract, block_number):\n",
    "    try:\n",
    "        token_balance = contract.functions.balanceOf(token_holding_address_checksum).call(block_identifier=block_number)\n",
    "        has_error = False\n",
    "    except Exception as e:\n",
    "        token_balance = 0\n",
    "        has_error = True\n",
    "        print(f\"Error getting token balance: {e}\")\n",
    "    return token_balance, has_error\n",
    "\n",
    "# Define the ERC20 contract ABI\n",
    "abi = [\n",
    "    {\n",
    "        'inputs': [],\n",
    "        'name': 'decimals',\n",
    "        'outputs': [{'internalType': 'uint8', 'name': '', 'type': 'uint8'}],\n",
    "        'stateMutability': 'view',\n",
    "        'type': 'function'\n",
    "    },\n",
    "    {\n",
    "        'inputs': [{'internalType': 'address', 'name': '', 'type': 'address'}],\n",
    "        'name': 'balanceOf',\n",
    "        'outputs': [{'internalType': 'uint256', 'name': '', 'type': 'uint256'}],\n",
    "        'stateMutability': 'view',\n",
    "        'type': 'function'\n",
    "    }\n",
    "]\n",
    "\n",
    "# Define the token address\n",
    "token_address = \"0x6B175474E89094C44Da98b954EedeAC495271d0F\"\n",
    "token_address_checksum = web3.to_checksum_address(token_address)\n",
    "\n",
    "token_holding_address = \"0x467194771dAe2967Aef3ECbEDD3Bf9a310C76C65\"\n",
    "token_holding_address_checksum = web3.to_checksum_address(token_holding_address)\n",
    "\n",
    "# Create a contract instance for the token address\n",
    "contract = web3.eth.contract(address=token_address_checksum, abi=abi)\n",
    "\n",
    "# Retrieve the token balances for each block number, and store the results in a DataFrame\n",
    "balances = []\n",
    "for i, row in block_numbers_df.iloc[553:].iterrows():\n",
    "    \n",
    "    token_decimals = 18  # Assuming 18 decimal places for the DAI token\n",
    "    block_number = row['Block Number']\n",
    "    token_balance, has_error = get_token_balance(token_holding_address_checksum, token_address, contract, block_number)\n",
    "    print(f\"Retrieving token balance for {row['Date']} - Block Number:{row['Block Number']} - balance: {token_balance} \")\n",
    "    time.sleep(0.5)\n",
    "    balances.append({\n",
    "        'date': row['Date'],\n",
    "        'block_number': block_number,\n",
    "        'token_address': token_address,\n",
    "        'token_name': 'dai',  \n",
    "        'token_decimals': token_decimals,\n",
    "        'balance': token_balance / 10**token_decimals,\n",
    "        'has_error': has_error\n",
    "    })\n",
    "\n",
    "L1DaiEscrow_balances_per_day = pd.DataFrame(balances)\n"
   ]
  },
  {
   "cell_type": "code",
   "execution_count": 1,
   "metadata": {},
   "outputs": [],
   "source": [
    "#L1DaiEscrow_balances_per_day.to_csv('L1DaiEscrow/L1DaiEscrow_balances_per_day.csv', index=False)\n"
   ]
  },
  {
   "cell_type": "code",
   "execution_count": null,
   "metadata": {},
   "outputs": [],
   "source": []
  },
  {
   "cell_type": "markdown",
   "metadata": {},
   "source": [
    "<h1 style=\"color: blue; font-size: 36px; font-family: Arial;\">  SNX old Escrow</h1>\n"
   ]
  },
  {
   "cell_type": "code",
   "execution_count": 3,
   "metadata": {},
   "outputs": [],
   "source": [
    "#contract-address: 0x045e507925d2e05D114534D0810a1abD94aca8d6\n",
    "#created at Jan-14-2021 at block 11656238"
   ]
  },
  {
   "cell_type": "code",
   "execution_count": null,
   "metadata": {
    "collapsed": true,
    "jupyter": {
     "outputs_hidden": true
    }
   },
   "outputs": [],
   "source": [
    "def get_token_balance(token_holding_address_checksum, token_address, contract, block_number):\n",
    "    try:\n",
    "        token_balance = contract.functions.balanceOf(token_holding_address_checksum).call(block_identifier=block_number)\n",
    "        has_error = False\n",
    "    except Exception as e:\n",
    "        token_balance = 0\n",
    "        has_error = True\n",
    "        print(f\"Error getting token balance: {e}\")\n",
    "    return token_balance, has_error\n",
    "\n",
    "# Define the ERC20 contract ABI\n",
    "abi = [\n",
    "    {\n",
    "        'inputs': [],\n",
    "        'name': 'decimals',\n",
    "        'outputs': [{'internalType': 'uint8', 'name': '', 'type': 'uint8'}],\n",
    "        'stateMutability': 'view',\n",
    "        'type': 'function'\n",
    "    },\n",
    "    {\n",
    "        'inputs': [{'internalType': 'address', 'name': '', 'type': 'address'}],\n",
    "        'name': 'balanceOf',\n",
    "        'outputs': [{'internalType': 'uint256', 'name': '', 'type': 'uint256'}],\n",
    "        'stateMutability': 'view',\n",
    "        'type': 'function'\n",
    "    }\n",
    "]\n",
    "\n",
    "# Define the token address\n",
    "token_address = \"0xC011a73ee8576Fb46F5E1c5751cA3B9Fe0af2a6F\"\n",
    "token_address_checksum = web3.to_checksum_address(token_address)\n",
    "\n",
    "token_holding_address = \"0x045e507925d2e05D114534D0810a1abD94aca8d6\"\n",
    "token_holding_address_checksum = web3.to_checksum_address(token_holding_address)\n",
    "\n",
    "# Create a contract instance for the token address\n",
    "contract = web3.eth.contract(address=token_address_checksum, abi=abi)\n",
    "\n",
    "# Retrieve the token balances for each block number, and store the results in a DataFrame\n",
    "balances = []\n",
    "for i, row in block_numbers_df.iloc[379:].iterrows():\n",
    "    \n",
    "    token_decimals = 18  # Assuming 18 decimal places for the DAI token\n",
    "    block_number = row['Block Number']\n",
    "    token_balance, has_error = get_token_balance(token_holding_address_checksum, token_address, contract, block_number)\n",
    "    print(f\"Retrieving token balance for {row['Date']} - Block Number:{row['Block Number']} - balance: {token_balance} \")\n",
    "    time.sleep(0.5)\n",
    "    balances.append({\n",
    "        'date': row['Date'],\n",
    "        'block_number': block_number,\n",
    "        'token_address': token_address,\n",
    "        'token_name': 'snx-synthetix-network-token',  \n",
    "        'token_decimals': token_decimals,\n",
    "        'balance': token_balance / 10**token_decimals,\n",
    "        'has_error': has_error\n",
    "    })\n",
    "\n",
    "L1SnxEscrowOld_balances_per_day = pd.DataFrame(balances)\n"
   ]
  },
  {
   "cell_type": "code",
   "execution_count": 16,
   "metadata": {},
   "outputs": [],
   "source": [
    "L1SnxEscrowOld_balances_per_day.to_csv('L1SnxEscrowOld/L1SnxEscrowOld_balances_per_day.csv', index=False)\n"
   ]
  },
  {
   "cell_type": "code",
   "execution_count": null,
   "metadata": {},
   "outputs": [],
   "source": []
  },
  {
   "cell_type": "markdown",
   "metadata": {},
   "source": [
    "<h1 style=\"color: blue; font-size: 36px; font-family: Arial;\">  SNX current Escrow</h1>\n",
    "\n",
    "0x5Fd79D46EBA7F351fe49BFF9E87cdeA6c821eF9f\n",
    "SNX Token\n",
    "\n",
    "deployed on May-10-2021 "
   ]
  },
  {
   "cell_type": "code",
   "execution_count": null,
   "metadata": {
    "collapsed": true,
    "jupyter": {
     "outputs_hidden": true
    }
   },
   "outputs": [],
   "source": [
    "def get_token_balance(token_holding_address_checksum, token_address, contract, block_number):\n",
    "    try:\n",
    "        token_balance = contract.functions.balanceOf(token_holding_address_checksum).call(block_identifier=block_number)\n",
    "        has_error = False\n",
    "    except Exception as e:\n",
    "        token_balance = 0\n",
    "        has_error = True\n",
    "        print(f\"Error getting token balance: {e}\")\n",
    "    return token_balance, has_error\n",
    "\n",
    "# Define the ERC20 contract ABI\n",
    "abi = [\n",
    "    {\n",
    "        'inputs': [],\n",
    "        'name': 'decimals',\n",
    "        'outputs': [{'internalType': 'uint8', 'name': '', 'type': 'uint8'}],\n",
    "        'stateMutability': 'view',\n",
    "        'type': 'function'\n",
    "    },\n",
    "    {\n",
    "        'inputs': [{'internalType': 'address', 'name': '', 'type': 'address'}],\n",
    "        'name': 'balanceOf',\n",
    "        'outputs': [{'internalType': 'uint256', 'name': '', 'type': 'uint256'}],\n",
    "        'stateMutability': 'view',\n",
    "        'type': 'function'\n",
    "    }\n",
    "]\n",
    "\n",
    "# Define the token address\n",
    "token_address = \"0xC011a73ee8576Fb46F5E1c5751cA3B9Fe0af2a6F\"\n",
    "token_address_checksum = web3.to_checksum_address(token_address)\n",
    "\n",
    "token_holding_address = \"0x5Fd79D46EBA7F351fe49BFF9E87cdeA6c821eF9f\"\n",
    "token_holding_address_checksum = web3.to_checksum_address(token_holding_address)\n",
    "\n",
    "# Create a contract instance for the token address\n",
    "contract = web3.eth.contract(address=token_address_checksum, abi=abi)\n",
    "\n",
    "# Retrieve the token balances for each block number, and store the results in a DataFrame\n",
    "balances = []\n",
    "for i, row in block_numbers_df.iloc[495:].iterrows():\n",
    "    \n",
    "    token_decimals = 18  \n",
    "    block_number = row['Block Number']\n",
    "    token_balance, has_error = get_token_balance(token_holding_address_checksum, token_address, contract, block_number)\n",
    "    print(f\"Retrieving token balance for {row['Date']} - Block Number:{row['Block Number']} - balance: {token_balance} \")\n",
    "    time.sleep(0.5)\n",
    "    balances.append({\n",
    "        'date': row['Date'],\n",
    "        'block_number': block_number,\n",
    "        'token_address': token_address,\n",
    "        'token_name': 'snx-synthetix-network-token',  \n",
    "        'token_decimals': token_decimals,\n",
    "        'balance': token_balance / 10**token_decimals,\n",
    "        'has_error': has_error\n",
    "    })\n",
    "\n",
    "L1SnxEscrowCurrent_balances_per_day = pd.DataFrame(balances)\n"
   ]
  },
  {
   "cell_type": "code",
   "execution_count": 27,
   "metadata": {},
   "outputs": [],
   "source": [
    "L1SnxEscrowCurrent_balances_per_day.to_csv('L1SnxEscrowCurrent/L1SnxEscrowCurrent_balances_per_day.csv', index=False)\n"
   ]
  },
  {
   "cell_type": "code",
   "execution_count": null,
   "metadata": {},
   "outputs": [],
   "source": []
  },
  {
   "cell_type": "markdown",
   "metadata": {},
   "source": [
    "<h1 style=\"color: blue; font-size: 36px; font-family: Arial;\">  SNX new Escrow</h1>\n"
   ]
  },
  {
   "cell_type": "code",
   "execution_count": 1,
   "metadata": {},
   "outputs": [],
   "source": [
    "#contract-address: 0xCd9D4988C0AE61887B075bA77f08cbFAd2b65068\n",
    "#created at May-10-2021 at block 12409013\n",
    "\n",
    "#the escrow is, however, not in use yet"
   ]
  },
  {
   "cell_type": "code",
   "execution_count": null,
   "metadata": {
    "collapsed": true,
    "jupyter": {
     "outputs_hidden": true
    }
   },
   "outputs": [],
   "source": [
    "def get_token_balance(token_holding_address_checksum, token_address, contract, block_number):\n",
    "    try:\n",
    "        token_balance = contract.functions.balanceOf(token_holding_address_checksum).call(block_identifier=block_number)\n",
    "        has_error = False\n",
    "    except Exception as e:\n",
    "        token_balance = 0\n",
    "        has_error = True\n",
    "        print(f\"Error getting token balance: {e}\")\n",
    "    return token_balance, has_error\n",
    "\n",
    "# Define the ERC20 contract ABI\n",
    "abi = [\n",
    "    {\n",
    "        'inputs': [],\n",
    "        'name': 'decimals',\n",
    "        'outputs': [{'internalType': 'uint8', 'name': '', 'type': 'uint8'}],\n",
    "        'stateMutability': 'view',\n",
    "        'type': 'function'\n",
    "    },\n",
    "    {\n",
    "        'inputs': [{'internalType': 'address', 'name': '', 'type': 'address'}],\n",
    "        'name': 'balanceOf',\n",
    "        'outputs': [{'internalType': 'uint256', 'name': '', 'type': 'uint256'}],\n",
    "        'stateMutability': 'view',\n",
    "        'type': 'function'\n",
    "    }\n",
    "]\n",
    "\n",
    "# Define the token address\n",
    "token_address = \"0xC011a73ee8576Fb46F5E1c5751cA3B9Fe0af2a6F\"\n",
    "token_address_checksum = web3.to_checksum_address(token_address)\n",
    "\n",
    "token_holding_address = \"0xCd9D4988C0AE61887B075bA77f08cbFAd2b65068\"\n",
    "token_holding_address_checksum = web3.to_checksum_address(token_holding_address)\n",
    "\n",
    "# Create a contract instance for the token address\n",
    "contract = web3.eth.contract(address=token_address_checksum, abi=abi)\n",
    "\n",
    "# Retrieve the token balances for each block number, and store the results in a DataFrame\n",
    "balances = []\n",
    "for i, row in block_numbers_df.iloc[495:].iterrows():\n",
    "    \n",
    "    token_decimals = 18  \n",
    "    block_number = row['Block Number']\n",
    "    token_balance, has_error = get_token_balance(token_holding_address_checksum, token_address, contract, block_number)\n",
    "    print(f\"Retrieving token balance for {row['Date']} - Block Number:{row['Block Number']} - balance: {token_balance} \")\n",
    "    time.sleep(0.5)\n",
    "    balances.append({\n",
    "        'date': row['Date'],\n",
    "        'block_number': block_number,\n",
    "        'token_address': token_address,\n",
    "        'token_name': 'snx-synthetix-network-token',  \n",
    "        'token_decimals': token_decimals,\n",
    "        'balance': token_balance / 10**token_decimals,\n",
    "        'has_error': has_error\n",
    "    })\n",
    "\n",
    "L1SnxEscrowNew_balances_per_day = pd.DataFrame(balances)\n"
   ]
  },
  {
   "cell_type": "code",
   "execution_count": null,
   "metadata": {},
   "outputs": [],
   "source": []
  },
  {
   "cell_type": "markdown",
   "metadata": {},
   "source": [
    "<h1 style=\"color: blue; font-size: 36px; font-family: Arial;\"> Combining Escrows</h1>\n"
   ]
  },
  {
   "cell_type": "code",
   "execution_count": 38,
   "metadata": {},
   "outputs": [],
   "source": []
  },
  {
   "cell_type": "code",
   "execution_count": 16,
   "metadata": {},
   "outputs": [],
   "source": [
    "L1OptimismGateway_token_balances_per_day_part01 = pd.read_csv('L1OptimismGateway/L1OptimismGateway_token_balances_per_day_part01.csv') \n",
    "L1OptimismGateway_token_balances_per_day_part02 = pd.read_csv('L1OptimismGateway/L1OptimismGateway_token_balances_per_day_part01.csv')\n",
    "L1OptimismGateway_token_balances_per_day__eth_part03 = pd.read_csv('L1OptimismGateway/L1OptimismGateway_token_balances_per_day__eth_part03.csv')\n",
    "\n",
    "L1OptimismGateway_token_balances_per_day_part01['escrow_address'] = '0x99C9fc46f92E8a1c0deC1b1747d010903E884bE1'\n",
    "L1OptimismGateway_token_balances_per_day_part01['escrow_address_rdbl'] = 'L1StandardBridge'\n",
    "L1OptimismGateway_token_balances_per_day_part01 =L1OptimismGateway_token_balances_per_day_part01.drop(columns=['has_error'])\n",
    "\n",
    "\n",
    "L1OptimismGateway_token_balances_per_day_part02['escrow_address'] = '0x99C9fc46f92E8a1c0deC1b1747d010903E884bE1'\n",
    "L1OptimismGateway_token_balances_per_day_part02['escrow_address_rdbl'] = 'L1StandardBridge'\n",
    "L1OptimismGateway_token_balances_per_day_part02 = L1OptimismGateway_token_balances_per_day_part02.drop(columns=['has_error'])\n",
    "\n",
    "L1OptimismGateway_token_balances_per_day__eth_part03['escrow_address'] = '0x99C9fc46f92E8a1c0deC1b1747d010903E884bE1'\n",
    "L1OptimismGateway_token_balances_per_day__eth_part03['escrow_address_rdbl'] = 'L1StandardBridge'\n"
   ]
  },
  {
   "cell_type": "code",
   "execution_count": 17,
   "metadata": {},
   "outputs": [],
   "source": [
    "L1DaiEscrow_balances_per_day = pd.read_csv('L1DaiEscrow/L1DaiEscrow_balances_per_day.csv') \n",
    "\n",
    "L1DaiEscrow_balances_per_day['escrow_address'] = '0x467194771dAe2967Aef3ECbEDD3Bf9a310C76C65'\n",
    "L1DaiEscrow_balances_per_day['escrow_address_rdbl'] = 'L1DaiGateway'\n",
    "L1DaiEscrow_balances_per_day = L1DaiEscrow_balances_per_day.drop(columns=['has_error'])\n",
    "\n"
   ]
  },
  {
   "cell_type": "code",
   "execution_count": 76,
   "metadata": {},
   "outputs": [],
   "source": [
    "L1SnxEscrowOld_balances_per_day = pd.read_csv('L1SnxEscrowOld/L1SnxEscrowOld_balances_per_day.csv') \n",
    "\n",
    "L1SnxEscrowOld_balances_per_day['escrow_address'] = '0x045e507925d2e05D114534D0810a1abD94aca8d6'\n",
    "L1SnxEscrowOld_balances_per_day['escrow_address_rdbl'] = 'L1SnxOldBridge'\n",
    "L1SnxEscrowOld_balances_per_day = L1SnxEscrowOld_balances_per_day.drop(columns=['has_error'])\n"
   ]
  },
  {
   "cell_type": "code",
   "execution_count": 19,
   "metadata": {},
   "outputs": [],
   "source": [
    "L1SnxEscrowCurrent_balances_per_day = pd.read_csv('L1SnxEscrowCurrent/L1SnxEscrowCurrent_balances_per_day.csv') \n",
    "\n",
    "L1SnxEscrowCurrent_balances_per_day['escrow_address'] = '0x5Fd79D46EBA7F351fe49BFF9E87cdeA6c821eF9f'\n",
    "L1SnxEscrowCurrent_balances_per_day['escrow_address_rdbl'] = 'L1SnxCurrentdBridge'\n",
    "L1SnxEscrowCurrent_balances_per_day = L1SnxEscrowCurrent_balances_per_day.drop(columns=['has_error'])\n"
   ]
  },
  {
   "cell_type": "code",
   "execution_count": 20,
   "metadata": {},
   "outputs": [],
   "source": [
    "# create a list of the dataframes\n",
    "dfs = [L1OptimismGateway_token_balances_per_day_part01,\n",
    "       L1OptimismGateway_token_balances_per_day_part02,\n",
    "       L1OptimismGateway_token_balances_per_day__eth_part03,\n",
    "       L1DaiEscrow_balances_per_day, \n",
    "       L1SnxEscrowOld_balances_per_day,\n",
    "       L1SnxEscrowCurrent_balances_per_day]eq\n",
    "\n",
    "# concatenate the dataframes along the rows\n",
    "optimism_escrow_balances = pd.concat(dfs, ignore_index=True)"
   ]
  },
  {
   "cell_type": "code",
   "execution_count": null,
   "metadata": {},
   "outputs": [],
   "source": []
  },
  {
   "cell_type": "code",
   "execution_count": null,
   "metadata": {},
   "outputs": [],
   "source": [
    "optimism_escrow_balances['token_address'] = optimism_escrow_balances['token_address'].apply(lambda x: web3.to_checksum_address(x) if x != 'ether' else x)\n",
    "optimism_escrow_balances['date'] = pd.to_datetime(optimism_escrow_balances['date'])\n",
    "optimism_escrow_balances = optimism_escrow_balances[optimism_escrow_balances['date'] < '2023-04-30']\n",
    "optimism_escrow_balances['token_address'] = optimism_escrow_balances['token_address'].apply(str)"
   ]
  },
  {
   "cell_type": "code",
   "execution_count": 83,
   "metadata": {},
   "outputs": [],
   "source": [
    "price_data = pd.read_csv('../../utils/price-data/price_data.csv') \n",
    "price_data['token_address'] = price_data['token_address'].apply(lambda x: web3.to_checksum_address(x) if x != 'ether' else x)\n",
    "price_data['timestamp'] = pd.to_datetime(price_data['timestamp'])\n",
    "price_data['token_address'] = price_data['token_address'].apply(str)"
   ]
  },
  {
   "cell_type": "code",
   "execution_count": null,
   "metadata": {},
   "outputs": [],
   "source": [
    "merged_df = optimism_escrow_balances.merge(price_data, left_on=['token_address', 'date'], right_on=['token_address', 'timestamp'], how='left')"
   ]
  },
  {
   "cell_type": "code",
   "execution_count": 9,
   "metadata": {},
   "outputs": [
    {
     "data": {
      "text/plain": [
       "(28579, 8)"
      ]
     },
     "execution_count": 9,
     "metadata": {},
     "output_type": "execute_result"
    }
   ],
   "source": [
    "optimism_escrow_balances.shape"
   ]
  },
  {
   "cell_type": "code",
   "execution_count": 13,
   "metadata": {},
   "outputs": [
    {
     "name": "stdout",
     "output_type": "stream",
     "text": [
      "timestamp    True\n",
      "price        True\n",
      "dtype: bool\n"
     ]
    }
   ],
   "source": [
    "missing_values = merged_df[['timestamp', 'price']].isna().any()\n",
    "print(missing_values)\n"
   ]
  },
  {
   "cell_type": "markdown",
   "metadata": {},
   "source": [
    "there are some rows that could not have merged, due to some missing price data on CoinGecko"
   ]
  },
  {
   "cell_type": "code",
   "execution_count": null,
   "metadata": {
    "collapsed": true,
    "jupyter": {
     "outputs_hidden": true
    }
   },
   "outputs": [],
   "source": [
    "missing_rows = merged_df.loc[merged_df['timestamp'].isna() | merged_df['price'].isna()]\n",
    "missing_rows\n"
   ]
  },
  {
   "cell_type": "code",
   "execution_count": 16,
   "metadata": {},
   "outputs": [
    {
     "data": {
      "text/plain": [
       "0x0C10bF8FcB7Bf5412187A595ab97a3609160b5c6    314\n",
       "0x4d224452801ACEd8B2F0aebE155379bb5D594381    268\n",
       "0xF17e65822b568B3903685a7c9F496CF7656Cc6C2    162\n",
       "0xae78736Cd615f374D3085123A210448E74Fc6393    154\n",
       "0xC18360217D8F7Ab5e7c516566761Ea12Ce7F9D72    140\n",
       "0x582d872A1B094FC48F5DE31D3B73F2D9bE47def1     66\n",
       "Name: token_address, dtype: int64"
      ]
     },
     "execution_count": 16,
     "metadata": {},
     "output_type": "execute_result"
    }
   ],
   "source": [
    "missing_rows[\"token_address\"].value_counts()"
   ]
  },
  {
   "cell_type": "code",
   "execution_count": 86,
   "metadata": {},
   "outputs": [],
   "source": [
    "optimism_escrows_final = optimism_escrow_balances.merge(price_data, left_on=['token_address', 'date'], right_on=['token_address', 'timestamp'])"
   ]
  },
  {
   "cell_type": "code",
   "execution_count": 24,
   "metadata": {},
   "outputs": [
    {
     "data": {
      "text/plain": [
       "(28579, 8)"
      ]
     },
     "execution_count": 24,
     "metadata": {},
     "output_type": "execute_result"
    }
   ],
   "source": [
    "optimism_escrow_balances.shape"
   ]
  },
  {
   "cell_type": "code",
   "execution_count": 87,
   "metadata": {},
   "outputs": [
    {
     "data": {
      "text/plain": [
       "(27475, 10)"
      ]
     },
     "execution_count": 87,
     "metadata": {},
     "output_type": "execute_result"
    }
   ],
   "source": [
    "optimism_escrows_final.shape"
   ]
  },
  {
   "cell_type": "code",
   "execution_count": 88,
   "metadata": {},
   "outputs": [],
   "source": [
    "optimism_escrows_final['date'] = pd.to_datetime(optimism_escrows_final['date'])\n",
    "optimism_escrows_final['token_address'] = optimism_escrows_final['token_address'].astype(str)\n",
    "optimism_escrows_final['timestamp'] = pd.to_datetime(optimism_escrows_final['timestamp'])"
   ]
  },
  {
   "cell_type": "code",
   "execution_count": 89,
   "metadata": {},
   "outputs": [],
   "source": [
    "optimism_escrows_final['balance_usd'] = optimism_escrows_final['balance'] * optimism_escrows_final['price']\n"
   ]
  },
  {
   "cell_type": "code",
   "execution_count": 91,
   "metadata": {},
   "outputs": [],
   "source": [
    "optimism_escrows_final['date'] = pd.to_datetime(optimism_escrows_final['date'])\n",
    "optimism_escrows_final['token_address'] = optimism_escrows_final['token_address'].astype(str)\n",
    "optimism_escrows_final['timestamp'] = pd.to_datetime(optimism_escrows_final['timestamp'])"
   ]
  },
  {
   "cell_type": "code",
   "execution_count": 92,
   "metadata": {},
   "outputs": [],
   "source": [
    "#can be disregarded and will be overwritten with the correct value in eth in the analysis part\n",
    "optimism_escrows_final['token_amount'] = optimism_escrows_final['balance'] * 10 ** optimism_escrows_final['token_decimals']\n",
    "\n",
    "def wei_to_eth(wei_value):\n",
    "    # 1 Ether (ETH) is equivalent to 10^18 Wei\n",
    "    eth_value = wei_value * 1e-18\n",
    "    return eth_value\n",
    "\n",
    "# Apply the conversion function and add a new column\n",
    "optimism_escrows_final[\"balance_eth\"] = optimism_escrows_final[\"token_amount\"].apply(wei_to_eth)"
   ]
  },
  {
   "cell_type": "markdown",
   "metadata": {},
   "source": [
    "### save final df"
   ]
  },
  {
   "cell_type": "code",
   "execution_count": 12,
   "metadata": {},
   "outputs": [],
   "source": [
    "#optimism_escrows_final = pd.read_csv('../../data/optimism_escrows_final.csv')"
   ]
  }
 ],
 "metadata": {
  "kernelspec": {
   "display_name": "Python 3",
   "language": "python",
   "name": "python3"
  },
  "language_info": {
   "codemirror_mode": {
    "name": "ipython",
    "version": 3
   },
   "file_extension": ".py",
   "mimetype": "text/x-python",
   "name": "python",
   "nbconvert_exporter": "python",
   "pygments_lexer": "ipython3",
   "version": "3.11.2"
  }
 },
 "nbformat": 4,
 "nbformat_minor": 4
}
