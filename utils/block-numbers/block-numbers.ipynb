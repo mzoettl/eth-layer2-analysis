{
 "cells": [
  {
   "cell_type": "code",
   "execution_count": 1,
   "metadata": {},
   "outputs": [],
   "source": [
    "import pandas as pd\n",
    "import requests\n",
    "import datetime\n",
    "#import time\n",
    "#import json"
   ]
  },
  {
   "cell_type": "markdown",
   "metadata": {},
   "source": [
    "# Block Numbers\n",
    "get the block number for the last block of each day ranging from 2020.01.01 to 2023.04.30"
   ]
  },
  {
   "cell_type": "code",
   "execution_count": null,
   "metadata": {},
   "outputs": [],
   "source": [
    "# Define start and end timestamps\n",
    "start_date = pd.Timestamp('2020-01-01')\n",
    "end_date = pd.Timestamp('2023-04-30')\n",
    "\n",
    "# Create empty DataFrame to store results\n",
    "block_numbers = pd.DataFrame(columns=['Date', 'Block Number'])\n",
    "\n",
    "# Loop over each day between start and end dates\n",
    "for date in pd.date_range(start=start_date, end=end_date, freq='D'):\n",
    "\n",
    "    # Compute timestamp for end of day\n",
    "    end_of_day = pd.Timestamp(date.date() + pd.Timedelta(days=1), tz='UTC') - pd.Timedelta(seconds=1)\n",
    "    end_of_day_timestamp = int(end_of_day.timestamp())\n",
    "\n",
    "    # Build API URL\n",
    "    api_key = 'YOUR-API-KEY'\n",
    "    api_url = f\"https://api.etherscan.io/api?module=block&action=getblocknobytime&timestamp={end_of_day_timestamp}&closest=before&apikey={api_key}\"\n",
    "    \n",
    "    time.sleep(2)\n",
    "\n",
    "    # Send API request\n",
    "    response = requests.get(api_url).json()\n",
    "\n",
    "    # Append result to DataFrame\n",
    "    block_numbers = block_numbers.append({\n",
    "        'Date': date,\n",
    "        'Block Number': int(response['result'])\n",
    "    }, ignore_index=True)\n",
    "\n",
    "# Print results\n",
    "print(block_numbers)\n"
   ]
  },
  {
   "cell_type": "code",
   "execution_count": 16,
   "metadata": {},
   "outputs": [],
   "source": [
    "block_numbers.to_csv('block_numbers_2020-01-2023-04.csv', index=False)"
   ]
  },
  {
   "cell_type": "markdown",
   "metadata": {},
   "source": []
  },
  {
   "cell_type": "code",
   "execution_count": null,
   "metadata": {},
   "outputs": [],
   "source": []
  },
  {
   "cell_type": "code",
   "execution_count": null,
   "metadata": {},
   "outputs": [],
   "source": [
    "\n"
   ]
  },
  {
   "cell_type": "code",
   "execution_count": null,
   "metadata": {},
   "outputs": [],
   "source": []
  },
  {
   "cell_type": "code",
   "execution_count": null,
   "metadata": {},
   "outputs": [],
   "source": []
  }
 ],
 "metadata": {
  "kernelspec": {
   "display_name": "Python 3",
   "language": "python",
   "name": "python3"
  },
  "language_info": {
   "codemirror_mode": {
    "name": "ipython",
    "version": 3
   },
   "file_extension": ".py",
   "mimetype": "text/x-python",
   "name": "python",
   "nbconvert_exporter": "python",
   "pygments_lexer": "ipython3",
   "version": "3.8.5"
  }
 },
 "nbformat": 4,
 "nbformat_minor": 4
}
